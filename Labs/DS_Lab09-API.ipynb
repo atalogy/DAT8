{
 "metadata": {
  "celltoolbar": "Slideshow",
  "name": "",
  "signature": "sha256:6b75b65835cc9992258e75cfffcd2273c6cf062bc0e68e112136f86ef282ca5b"
 },
 "nbformat": 3,
 "nbformat_minor": 0,
 "worksheets": [
  {
   "cells": [
    {
     "cell_type": "raw",
     "metadata": {},
     "source": [
      "First, do this to get the ipython notebook\n",
      "\n",
      "git checkout student\n",
      "git commit -am ...\n",
      "git checkout master\n",
      "git pull\n",
      "git checkout student\n",
      "git merge master"
     ]
    },
    {
     "cell_type": "markdown",
     "metadata": {
      "slideshow": {
       "slide_type": "slide"
      }
     },
     "source": [
      "Lab\n",
      "===================\n",
      "Twitter & MongoDB\n",
      "-------------------\n"
     ]
    },
    {
     "cell_type": "markdown",
     "metadata": {
      "slideshow": {
       "slide_type": "subslide"
      }
     },
     "source": [
      "Importing Libraries\n",
      "-------------------"
     ]
    },
    {
     "cell_type": "code",
     "collapsed": false,
     "input": [
      "# standard library:\n",
      "import os  \n",
      "\n",
      "from pprint import pprint\n",
      "\n",
      "import numpy as np\n",
      "\n",
      "# other modules:\n",
      "import matplotlib.pyplot as plt\n",
      "import pandas as pd\n",
      "import twitter\n",
      "import yaml\n",
      "\n",
      "from pymongo import MongoClient"
     ],
     "language": "python",
     "metadata": {
      "slideshow": {
       "slide_type": "-"
      }
     },
     "outputs": [],
     "prompt_number": 89
    },
    {
     "cell_type": "markdown",
     "metadata": {
      "slideshow": {
       "slide_type": "slide"
      }
     },
     "source": [
      "Twitter Trends\n",
      "=============="
     ]
    },
    {
     "cell_type": "heading",
     "level": 3,
     "metadata": {
      "slideshow": {
       "slide_type": "subslide"
      }
     },
     "source": [
      "Connect to Twitter:"
     ]
    },
    {
     "cell_type": "code",
     "collapsed": false,
     "input": [
      "!cat ~/api_cred.yml"
     ],
     "language": "python",
     "metadata": {},
     "outputs": []
    },
    {
     "cell_type": "code",
     "collapsed": false,
     "input": [
      "credentials = yaml.load(open(os.path.expanduser('~/api_cred.yml')))\n",
      "\n",
      "auth = twitter.oauth.OAuth(credentials['ACCESS_TOKEN'], \n",
      "                           credentials['ACCESS_TOKEN_SECRET'],\n",
      "                           credentials['API_KEY'],\n",
      "                           credentials['API_SECRET'])\n",
      "\n",
      "twitter_api = twitter.Twitter(auth=auth)"
     ],
     "language": "python",
     "metadata": {
      "slideshow": {
       "slide_type": "-"
      }
     },
     "outputs": [],
     "prompt_number": 91
    },
    {
     "cell_type": "code",
     "collapsed": false,
     "input": [
      "# The Yahoo! Where On Earth ID for the entire world is 1.\n",
      "# See https://dev.twitter.com/docs/api/1.1/get/trends/place and\n",
      "# http://developer.yahoo.com/geo/geoplanet/\n",
      "\n",
      "WORLD_WOE_ID = 1\n",
      "US_WOE_ID = 23424977\n",
      "\n",
      "# Prefix ID with the underscore for query string parameterization.\n",
      "# Without the underscore, the twitter package appends the ID value\n",
      "# to the URL itself as a special case keyword argument.\n",
      "\n",
      "world_trends = twitter_api.trends.place(_id=WORLD_WOE_ID)\n",
      "us_trends = twitter_api.trends.place(_id=US_WOE_ID)\n",
      "\n",
      "pprint(world_trends)"
     ],
     "language": "python",
     "metadata": {
      "slideshow": {
       "slide_type": "slide"
      }
     },
     "outputs": [
      {
       "output_type": "stream",
       "stream": "stdout",
       "text": [
        "[{u'as_of': u'2014-08-05T18:18:46Z',\n",
        "  u'created_at': u'2014-08-05T18:10:42Z',\n",
        "  u'locations': [{u'name': u'Worldwide', u'woeid': 1}],\n",
        "  u'trends': [{u'name': u'#1DFragrance',\n",
        "               u'promoted_content': None,\n",
        "               u'query': u'%231DFragrance',\n",
        "               u'url': u'http://twitter.com/search?q=%231DFragrance'},\n",
        "              {u'name': u'#1DAnnouncement',\n",
        "               u'promoted_content': None,\n",
        "               u'query': u'%231DAnnouncement',\n",
        "               u'url': u'http://twitter.com/search?q=%231DAnnouncement'},\n",
        "              {u'name': u'#NifakSaltanat\\u0131',\n",
        "               u'promoted_content': None,\n",
        "               u'query': u'%23NifakSaltanat%C4%B1',\n",
        "               u'url': u'http://twitter.com/search?q=%23NifakSaltanat%C4%B1'},\n",
        "              {u'name': u'#MeEncantariaQue',\n",
        "               u'promoted_content': None,\n",
        "               u'query': u'%23MeEncantariaQue',\n",
        "               u'url': u'http://twitter.com/search?q=%23MeEncantariaQue'},\n",
        "              {u'name': u'#5sospresale',\n",
        "               u'promoted_content': None,\n",
        "               u'query': u'%235sospresale',\n",
        "               u'url': u'http://twitter.com/search?q=%235sospresale'},\n",
        "              {u'name': u'A\\xe7Kap\\u0131y\\u0131VeyselEfendi CardozoGeliyor',\n",
        "               u'promoted_content': None,\n",
        "               u'query': u'%22A%C3%A7Kap%C4%B1y%C4%B1VeyselEfendi+CardozoGeliyor%22',\n",
        "               u'url': u'http://twitter.com/search?q=%22A%C3%A7Kap%C4%B1y%C4%B1VeyselEfendi+CardozoGeliyor%22'},\n",
        "              {u'name': u'Becky Hammon',\n",
        "               u'promoted_content': None,\n",
        "               u'query': u'%22Becky+Hammon%22',\n",
        "               u'url': u'http://twitter.com/search?q=%22Becky+Hammon%22'},\n",
        "              {u'name': u'As Patricinhas de Beverly Hills',\n",
        "               u'promoted_content': None,\n",
        "               u'query': u'%22As+Patricinhas+de+Beverly+Hills%22',\n",
        "               u'url': u'http://twitter.com/search?q=%22As+Patricinhas+de+Beverly+Hills%22'},\n",
        "              {u'name': u'Raif Al-Otaibi',\n",
        "               u'promoted_content': None,\n",
        "               u'query': u'%22Raif+Al-Otaibi%22',\n",
        "               u'url': u'http://twitter.com/search?q=%22Raif+Al-Otaibi%22'},\n",
        "              {u'name': u'EXO-L',\n",
        "               u'promoted_content': None,\n",
        "               u'query': u'EXO-L',\n",
        "               u'url': u'http://twitter.com/search?q=EXO-L'}]}]\n"
       ]
      }
     ],
     "prompt_number": 92
    },
    {
     "cell_type": "code",
     "collapsed": false,
     "input": [
      "pprint(us_trends)"
     ],
     "language": "python",
     "metadata": {
      "slideshow": {
       "slide_type": "subslide"
      }
     },
     "outputs": [
      {
       "output_type": "stream",
       "stream": "stdout",
       "text": [
        "[{u'as_of': u'2014-08-05T18:18:46Z',\n",
        "  u'created_at': u'2014-08-05T18:10:42Z',\n",
        "  u'locations': [{u'name': u'United States', u'woeid': 23424977}],\n",
        "  u'trends': [{u'name': u'#1DFragrance',\n",
        "               u'promoted_content': None,\n",
        "               u'query': u'%231DFragrance',\n",
        "               u'url': u'http://twitter.com/search?q=%231DFragrance'},\n",
        "              {u'name': u'#5sospresale',\n",
        "               u'promoted_content': None,\n",
        "               u'query': u'%235sospresale',\n",
        "               u'url': u'http://twitter.com/search?q=%235sospresale'},\n",
        "              {u'name': u'#whatchawannaknow',\n",
        "               u'promoted_content': None,\n",
        "               u'query': u'%23whatchawannaknow',\n",
        "               u'url': u'http://twitter.com/search?q=%23whatchawannaknow'},\n",
        "              {u'name': u'#1DAnnouncement',\n",
        "               u'promoted_content': None,\n",
        "               u'query': u'%231DAnnouncement',\n",
        "               u'url': u'http://twitter.com/search?q=%231DAnnouncement'},\n",
        "              {u'name': u'#StopTish2k14',\n",
        "               u'promoted_content': None,\n",
        "               u'query': u'%23StopTish2k14',\n",
        "               u'url': u'http://twitter.com/search?q=%23StopTish2k14'},\n",
        "              {u'name': u'Becky Hammon',\n",
        "               u'promoted_content': None,\n",
        "               u'query': u'%22Becky+Hammon%22',\n",
        "               u'url': u'http://twitter.com/search?q=%22Becky+Hammon%22'},\n",
        "              {u'name': u'Lisa Boyer',\n",
        "               u'promoted_content': None,\n",
        "               u'query': u'%22Lisa+Boyer%22',\n",
        "               u'url': u'http://twitter.com/search?q=%22Lisa+Boyer%22'},\n",
        "              {u'name': u'Macau',\n",
        "               u'promoted_content': None,\n",
        "               u'query': u'Macau',\n",
        "               u'url': u'http://twitter.com/search?q=Macau'},\n",
        "              {u'name': u'Seventeen Magazine',\n",
        "               u'promoted_content': None,\n",
        "               u'query': u'%22Seventeen+Magazine%22',\n",
        "               u'url': u'http://twitter.com/search?q=%22Seventeen+Magazine%22'},\n",
        "              {u'name': u'Love Jones',\n",
        "               u'promoted_content': None,\n",
        "               u'query': u'%22Love+Jones%22',\n",
        "               u'url': u'http://twitter.com/search?q=%22Love+Jones%22'}]}]\n"
       ]
      }
     ],
     "prompt_number": 93
    },
    {
     "cell_type": "markdown",
     "metadata": {},
     "source": [
      "us_trends_ouput=[{u'as_of': u'2014-04-20T02:17:09Z',\n",
      "  u'created_at': u'2014-04-20T02:12:36Z',\n",
      "  u'locations': [{u'name': u'United States', u'woeid': 23424977}],\n",
      "  u'trends': [{u'name': u'#MahoganyRT',\n",
      "               u'promoted_content': None,\n",
      "               u'query': u'%23MahoganyRT',\n",
      "               u'url': u'http://twitter.com/search?q=%23MahoganyRT'},\n",
      "              {u'name': u'#romeoplaymmmyeah',\n",
      "               u'promoted_content': None,\n",
      "               u'query': u'%23romeoplaymmmyeah',\n",
      "               u'url': u'http://twitter.com/search?q=%23romeoplaymmmyeah'},\n",
      "              {u'name': u'#ADayLateAndADollarShort',\n",
      "               u'promoted_content': None,\n",
      "               u'query': u'%23ADayLateAndADollarShort',\n",
      "               u'url': u'http://twitter.com/search?q=%23ADayLateAndADollarShort'},\n",
      "              {u'name': u'Westbrook and Durant',\n",
      "               u'promoted_content': None,\n",
      "               u'query': u'%22Westbrook+and+Durant%22',\n",
      "               u'url': u'http://twitter.com/search?q=%22Westbrook+and+Durant%22'},\n",
      "              {u'name': u'#WerdumvsBrowne',\n",
      "               u'promoted_content': None,\n",
      "               u'query': u'%23WerdumvsBrowne',\n",
      "               u'url': u'http://twitter.com/search?q=%23WerdumvsBrowne'},\n",
      "              {u'name': u'#TenCommandments',\n",
      "               u'promoted_content': None,\n",
      "               u'query': u'%23TenCommandments',\n",
      "               u'url': u'http://twitter.com/search?q=%23TenCommandments'},\n",
      "              {u'name': u'Travis Browne',\n",
      "               u'promoted_content': None,\n",
      "               u'query': u'%22Travis+Browne%22',\n",
      "               u'url': u'http://twitter.com/search?q=%22Travis+Browne%22'},\n",
      "              {u'name': u'Tomorrow is Easter',\n",
      "               u'promoted_content': None,\n",
      "               u'query': u'%22Tomorrow+is+Easter%22',\n",
      "               u'url': u'http://twitter.com/search?q=%22Tomorrow+is+Easter%22'},\n",
      "              {u'name': u'The Devil Wears Prada',\n",
      "               u'promoted_content': None,\n",
      "               u'query': u'%22The+Devil+Wears+Prada%22',\n",
      "               u'url': u'http://twitter.com/search?q=%22The+Devil+Wears+Prada%22'},\n",
      "              {u'name': u'Derek Fisher',\n",
      "               u'promoted_content': None,\n",
      "               u'query': u'%22Derek+Fisher%22',\n",
      "               u'url': u'http://twitter.com/search?q=%22Derek+Fisher%22'}]},\n",
      "                {u'as_of': u'2014-04-20T02:17:09Z',\n",
      "  u'created_at': u'2014-04-20T02:12:36Z',\n",
      "  u'locations': [{u'name': u'United States', u'woeid': 23424977}],\n",
      "  u'trends': [{u'name': u'#MahoganyRT',\n",
      "               u'promoted_content': None,\n",
      "               u'query': u'%23MahoganyRT',\n",
      "               u'url': u'http://twitter.com/search?q=%23MahoganyRT'},\n",
      "              {u'name': u'#romeoplaymmmyeah',\n",
      "               u'promoted_content': None,\n",
      "               u'query': u'%23romeoplaymmmyeah',\n",
      "               u'url': u'http://twitter.com/search?q=%23romeoplaymmmyeah'},\n",
      "              {u'name': u'#ADayLateAndADollarShort',\n",
      "               u'promoted_content': None,\n",
      "               u'query': u'%23ADayLateAndADollarShort',\n",
      "               u'url': u'http://twitter.com/search?q=%23ADayLateAndADollarShort'},\n",
      "              {u'name': u'Westbrook and Durant',\n",
      "               u'promoted_content': None,\n",
      "               u'query': u'%22Westbrook+and+Durant%22',\n",
      "               u'url': u'http://twitter.com/search?q=%22Westbrook+and+Durant%22'},\n",
      "              {u'name': u'#WerdumvsBrowne',\n",
      "               u'promoted_content': None,\n",
      "               u'query': u'%23WerdumvsBrowne',\n",
      "               u'url': u'http://twitter.com/search?q=%23WerdumvsBrowne'},\n",
      "              {u'name': u'#TenCommandments',\n",
      "               u'promoted_content': None,\n",
      "               u'query': u'%23TenCommandments',\n",
      "               u'url': u'http://twitter.com/search?q=%23TenCommandments'},\n",
      "              {u'name': u'Travis Browne',\n",
      "               u'promoted_content': None,\n",
      "               u'query': u'%22Travis+Browne%22',\n",
      "               u'url': u'http://twitter.com/search?q=%22Travis+Browne%22'},\n",
      "              {u'name': u'Tomorrow is Easter',\n",
      "               u'promoted_content': None,\n",
      "               u'query': u'%22Tomorrow+is+Easter%22',\n",
      "               u'url': u'http://twitter.com/search?q=%22Tomorrow+is+Easter%22'},\n",
      "              {u'name': u'The Devil Wears Prada',\n",
      "               u'promoted_content': None,\n",
      "               u'query': u'%22The+Devil+Wears+Prada%22',\n",
      "               u'url': u'http://twitter.com/search?q=%22The+Devil+Wears+Prada%22'},\n",
      "              {u'name': u'Derek Fisher',\n",
      "               u'promoted_content': None,\n",
      "               u'query': u'%22Derek+Fisher%22',\n",
      "               u'url': u'http://twitter.com/search?q=%22Derek+Fisher%22'}]} ]"
     ]
    },
    {
     "cell_type": "markdown",
     "metadata": {},
     "source": [
      "####In these results, what if we want to extract the name of the tag name property for each tweet.\n",
      "\n",
      "This is the part of the data structure we care about:"
     ]
    },
    {
     "cell_type": "raw",
     "metadata": {},
     "source": [
      "[ u'trends': [{u'name': u'#Tag1\n",
      "               ...},\n",
      "              {u'name': u'#Tag2',\n",
      "              ...}]\n",
      "  u'trends': [{u'name': u'#Tag3',\n",
      "               ...},\n",
      "              {u'name': u'#Tag4',\n",
      "              ...}] \n",
      "]"
     ]
    },
    {
     "cell_type": "code",
     "collapsed": false,
     "input": [
      "t_list = [{ 'outer' : [\n",
      "            {'name': '#Tag1'},\n",
      "            {'name': '#Tag2'}\n",
      "                   ]\n",
      "          },\n",
      "          {'outer' : \n",
      "            [{'name': '#Tag3'},\n",
      "             {'name': '#Tag4'}\n",
      "                   ]\n",
      "          }\n",
      "         ]\n",
      "\n",
      "([trend['name'] for trends in t_list\n",
      "                     for trend in trends['outer']]) "
     ],
     "language": "python",
     "metadata": {},
     "outputs": [
      {
       "metadata": {},
       "output_type": "pyout",
       "prompt_number": 94,
       "text": [
        "['#Tag1', '#Tag2', '#Tag3', '#Tag4']"
       ]
      }
     ],
     "prompt_number": 94
    },
    {
     "cell_type": "code",
     "collapsed": false,
     "input": [
      "us_trends_set=np.array([trend['name'] for trends in us_trends\n",
      "                     for trend in trends['trends']]) \n",
      "us_trends_set"
     ],
     "language": "python",
     "metadata": {},
     "outputs": [
      {
       "metadata": {},
       "output_type": "pyout",
       "prompt_number": 95,
       "text": [
        "array([u'#1DFragrance', u'#5sospresale', u'#whatchawannaknow',\n",
        "       u'#1DAnnouncement', u'#StopTish2k14', u'Becky Hammon',\n",
        "       u'Lisa Boyer', u'Macau', u'Seventeen Magazine', u'Love Jones'], \n",
        "      dtype='<U18')"
       ]
      }
     ],
     "prompt_number": 95
    },
    {
     "cell_type": "code",
     "collapsed": false,
     "input": [
      "world_trends_set = np.array([trend['name'] for trends in world_trends\n",
      "                        for trend in trends['trends']])\n",
      "world_trends_set"
     ],
     "language": "python",
     "metadata": {},
     "outputs": [
      {
       "metadata": {},
       "output_type": "pyout",
       "prompt_number": 96,
       "text": [
        "array([u'#1DFragrance', u'#1DAnnouncement', u'#NifakSaltanat\\u0131',\n",
        "       u'#MeEncantariaQue', u'#5sospresale',\n",
        "       u'A\\xe7Kap\\u0131y\\u0131VeyselEfendi CardozoGeliyor',\n",
        "       u'Becky Hammon', u'As Patricinhas de Beverly Hills',\n",
        "       u'Raif Al-Otaibi', u'EXO-L'], \n",
        "      dtype='<U35')"
       ]
      }
     ],
     "prompt_number": 96
    },
    {
     "cell_type": "heading",
     "level": 3,
     "metadata": {
      "slideshow": {
       "slide_type": "subslide"
      }
     },
     "source": [
      "Do any of these trends intersect?"
     ]
    },
    {
     "cell_type": "code",
     "collapsed": false,
     "input": [
      "np.intersect1d(us_trends_set,world_trends_set)"
     ],
     "language": "python",
     "metadata": {},
     "outputs": [
      {
       "metadata": {},
       "output_type": "pyout",
       "prompt_number": 97,
       "text": [
        "array([u'#1DAnnouncement', u'#1DFragrance', u'#5sospresale',\n",
        "       u'Becky Hammon'], \n",
        "      dtype='<U35')"
       ]
      }
     ],
     "prompt_number": 97
    },
    {
     "cell_type": "markdown",
     "metadata": {
      "slideshow": {
       "slide_type": "slide"
      }
     },
     "source": [
      "Twitter Statuses\n",
      "================"
     ]
    },
    {
     "cell_type": "code",
     "collapsed": false,
     "input": [
      "q = world_trends[0]['trends'][0]['name']\n",
      "\n",
      "count = 100\n",
      "\n",
      "# See https://dev.twitter.com/docs/api/1.1/get/search/tweets\n",
      "\n",
      "search_results = twitter_api.search.tweets(q=q, count=count)\n",
      "\n",
      "statuses = search_results['statuses']"
     ],
     "language": "python",
     "metadata": {
      "slideshow": {
       "slide_type": "fragment"
      }
     },
     "outputs": [],
     "prompt_number": 98
    },
    {
     "cell_type": "code",
     "collapsed": false,
     "input": [
      "len(statuses)"
     ],
     "language": "python",
     "metadata": {
      "slideshow": {
       "slide_type": "fragment"
      }
     },
     "outputs": [
      {
       "metadata": {},
       "output_type": "pyout",
       "prompt_number": 99,
       "text": [
        "99"
       ]
      }
     ],
     "prompt_number": 99
    },
    {
     "cell_type": "heading",
     "level": 3,
     "metadata": {
      "slideshow": {
       "slide_type": "subslide"
      }
     },
     "source": [
      "Check if there are any more results, using the 'search_metadata' component of the data structure."
     ]
    },
    {
     "cell_type": "code",
     "collapsed": false,
     "input": [
      "search_results['search_metadata']"
     ],
     "language": "python",
     "metadata": {},
     "outputs": [
      {
       "metadata": {},
       "output_type": "pyout",
       "prompt_number": 100,
       "text": [
        "{u'completed_in': 0.104,\n",
        " u'count': 100,\n",
        " u'max_id': 496721940951080960,\n",
        " u'max_id_str': u'496721940951080960',\n",
        " u'query': u'%231DFragrance',\n",
        " u'refresh_url': u'?since_id=496721940951080960&q=%231DFragrance&include_entities=1',\n",
        " u'since_id': 0,\n",
        " u'since_id_str': u'0'}"
       ]
      }
     ],
     "prompt_number": 100
    },
    {
     "cell_type": "code",
     "collapsed": false,
     "input": [
      "search_results['search_metadata'].get('next_results')"
     ],
     "language": "python",
     "metadata": {
      "slideshow": {
       "slide_type": "fragment"
      }
     },
     "outputs": [],
     "prompt_number": 101
    },
    {
     "cell_type": "code",
     "collapsed": false,
     "input": [
      "# Now load addition search results\n",
      "if 'next_results' in search_results['search_metadata']:\n",
      "    next_results = search_results['search_metadata']['next_results']\n",
      "    kwargs = dict([ kv.split('=') for kv in next_results[1:].split(\"&\") ])\n",
      "    search_results = twitter_api.search.tweets(**kwargs)\n",
      "    statuses += search_results['statuses']\n",
      "\n",
      "len(statuses)"
     ],
     "language": "python",
     "metadata": {
      "slideshow": {
       "slide_type": "fragment"
      }
     },
     "outputs": [
      {
       "metadata": {},
       "output_type": "pyout",
       "prompt_number": 102,
       "text": [
        "99"
       ]
      }
     ],
     "prompt_number": 102
    },
    {
     "cell_type": "markdown",
     "metadata": {
      "slideshow": {
       "slide_type": "slide"
      }
     },
     "source": [
      "Mongo\n",
      "====="
     ]
    },
    {
     "cell_type": "markdown",
     "metadata": {
      "slideshow": {
       "slide_type": "subslide"
      }
     },
     "source": [
      "from the command line:\n",
      "```bash\n",
      "$ mkdir -p data/db\n",
      "$ mongod --dbpath data/db\n",
      "```"
     ]
    },
    {
     "cell_type": "heading",
     "level": 3,
     "metadata": {
      "slideshow": {
       "slide_type": "slide"
      }
     },
     "source": [
      "Connect to our Mongo database management server (DBMS):"
     ]
    },
    {
     "cell_type": "code",
     "collapsed": false,
     "input": [
      "c = MongoClient()"
     ],
     "language": "python",
     "metadata": {
      "slideshow": {
       "slide_type": "fragment"
      }
     },
     "outputs": [],
     "prompt_number": 103
    },
    {
     "cell_type": "heading",
     "level": 4,
     "metadata": {
      "slideshow": {
       "slide_type": "fragment"
      }
     },
     "source": [
      "Create a database called `twitter`:"
     ]
    },
    {
     "cell_type": "code",
     "collapsed": false,
     "input": [
      "db = c.twitter"
     ],
     "language": "python",
     "metadata": {
      "slideshow": {
       "slide_type": "fragment"
      }
     },
     "outputs": [],
     "prompt_number": 104
    },
    {
     "cell_type": "markdown",
     "metadata": {
      "slideshow": {
       "slide_type": "notes"
      }
     },
     "source": [
      "##### In MongoDB, a \"database\" is a logical separation of content (i.e. \"collections\" of \"documents\")"
     ]
    },
    {
     "cell_type": "heading",
     "level": 4,
     "metadata": {
      "slideshow": {
       "slide_type": "slide"
      }
     },
     "source": [
      "Insert the results we pulled from Twitter and store them as a document in a collection named `tweets`:"
     ]
    },
    {
     "cell_type": "code",
     "collapsed": false,
     "input": [
      "statuses_ids = db.tweets.insert(statuses)\n",
      "statuses_ids[:5]"
     ],
     "language": "python",
     "metadata": {
      "slideshow": {
       "slide_type": "fragment"
      }
     },
     "outputs": [
      {
       "metadata": {},
       "output_type": "pyout",
       "prompt_number": 108,
       "text": [
        "[ObjectId('53e12081d99f0c7792c485bf'),\n",
        " ObjectId('53e12081d99f0c7792c485c0'),\n",
        " ObjectId('53e12081d99f0c7792c485c1'),\n",
        " ObjectId('53e12081d99f0c7792c485c2'),\n",
        " ObjectId('53e12081d99f0c7792c485c3')]"
       ]
      }
     ],
     "prompt_number": 108
    },
    {
     "cell_type": "heading",
     "level": 3,
     "metadata": {
      "slideshow": {
       "slide_type": "slide"
      }
     },
     "source": [
      "`ObjectId`s"
     ]
    },
    {
     "cell_type": "markdown",
     "metadata": {
      "slideshow": {
       "slide_type": "fragment"
      }
     },
     "source": [
      "**ObjectId** is a 12-byte **BSON** type, constructed using:\n",
      "\n",
      "-    a 4-byte value representing the seconds since the Unix epoch,\n",
      "-    a 3-byte machine identifier,\n",
      "-    a 2-byte process id, and\n",
      "-    a 3-byte counter, starting with a random value.\n",
      "\n",
      "In MongoDB, documents stored in a collection require a unique `_id` field that acts as a **primary key**. Because ObjectIds are small, most likely unique, and fast to generate, MongoDB uses ObjectIds as the default value for the `_id` field if the `_id` field is not specified. \n",
      "\n",
      "<!--small><i>from http://docs.mongodb.org/manual/reference/object-id/</i></small-->"
     ]
    },
    {
     "cell_type": "markdown",
     "metadata": {
      "slideshow": {
       "slide_type": "notes"
      }
     },
     "source": [
      "Using ObjectIds for the `_id` field provides the following additional benefits:\n",
      "\n",
      "- you can access the insertion time of the ObjectId, using the `.generation_time` property in pymongo. \n",
      "- sorting on an `_id` field that stores ObjectId values is roughly equivalent to sorting by insertion time."
     ]
    },
    {
     "cell_type": "heading",
     "level": 3,
     "metadata": {
      "slideshow": {
       "slide_type": "slide"
      }
     },
     "source": [
      "Test the contents of our database:"
     ]
    },
    {
     "cell_type": "code",
     "collapsed": false,
     "input": [
      "c.database_names()"
     ],
     "language": "python",
     "metadata": {
      "slideshow": {
       "slide_type": "fragment"
      }
     },
     "outputs": [
      {
       "metadata": {},
       "output_type": "pyout",
       "prompt_number": 109,
       "text": [
        "[u'local', u'twitter', u'admin']"
       ]
      }
     ],
     "prompt_number": 109
    },
    {
     "cell_type": "code",
     "collapsed": false,
     "input": [
      "db = c.twitter\n",
      "db.collection_names()"
     ],
     "language": "python",
     "metadata": {
      "slideshow": {
       "slide_type": "fragment"
      }
     },
     "outputs": [
      {
       "metadata": {},
       "output_type": "pyout",
       "prompt_number": 110,
       "text": [
        "[u'cn_tweets', u'system.indexes', u'us_tweets', u'tweets']"
       ]
      }
     ],
     "prompt_number": 110
    },
    {
     "cell_type": "code",
     "collapsed": false,
     "input": [
      "db.tweets.find_one()"
     ],
     "language": "python",
     "metadata": {
      "slideshow": {
       "slide_type": "fragment"
      }
     },
     "outputs": [
      {
       "metadata": {},
       "output_type": "pyout",
       "prompt_number": 29,
       "text": [
        "{u'_id': ObjectId('53e1042ed99f0c7792c484fe'),\n",
        " u'contributors': None,\n",
        " u'coordinates': None,\n",
        " u'created_at': u'Tue Aug 05 16:04:25 +0000 2014',\n",
        " u'entities': {u'hashtags': [{u'indices': [117, 132],\n",
        "    u'text': u'1DAnnouncement'}],\n",
        "  u'symbols': [],\n",
        "  u'urls': [],\n",
        "  u'user_mentions': []},\n",
        " u'favorite_count': 0,\n",
        " u'favorited': False,\n",
        " u'geo': None,\n",
        " u'id': 496688183288291328L,\n",
        " u'id_str': u'496688183288291328',\n",
        " u'in_reply_to_screen_name': None,\n",
        " u'in_reply_to_status_id': None,\n",
        " u'in_reply_to_status_id_str': None,\n",
        " u'in_reply_to_user_id': None,\n",
        " u'in_reply_to_user_id_str': None,\n",
        " u'lang': u'es',\n",
        " u'metadata': {u'iso_language_code': u'es', u'result_type': u'recent'},\n",
        " u'place': None,\n",
        " u'retweet_count': 0,\n",
        " u'retweeted': False,\n",
        " u'source': u'<a href=\"http://www.twitter.com\" rel=\"nofollow\">Twitter for Windows Phone</a>',\n",
        " u'text': u'para mi es el comercial de y&amp;i y ellos bajan del techo como esp\\xedas y roban el perfume y no me emociona para nada #1DAnnouncement',\n",
        " u'truncated': False,\n",
        " u'user': {u'contributors_enabled': False,\n",
        "  u'created_at': u'Sun Oct 06 02:40:33 +0000 2013',\n",
        "  u'default_profile': False,\n",
        "  u'default_profile_image': False,\n",
        "  u'description': u'3 de mayo',\n",
        "  u'entities': {u'description': {u'urls': []}},\n",
        "  u'favourites_count': 191,\n",
        "  u'follow_request_sent': False,\n",
        "  u'followers_count': 266,\n",
        "  u'following': False,\n",
        "  u'friends_count': 209,\n",
        "  u'geo_enabled': False,\n",
        "  u'id': 1939547132,\n",
        "  u'id_str': u'1939547132',\n",
        "  u'is_translation_enabled': False,\n",
        "  u'is_translator': False,\n",
        "  u'lang': u'es',\n",
        "  u'listed_count': 6,\n",
        "  u'location': u'argentina',\n",
        "  u'name': u'giulietta ',\n",
        "  u'notifications': False,\n",
        "  u'profile_background_color': u'FFFFFF',\n",
        "  u'profile_background_image_url': u'http://pbs.twimg.com/profile_background_images/468155973945655296/3-l7VOj6.png',\n",
        "  u'profile_background_image_url_https': u'https://pbs.twimg.com/profile_background_images/468155973945655296/3-l7VOj6.png',\n",
        "  u'profile_background_tile': False,\n",
        "  u'profile_banner_url': u'https://pbs.twimg.com/profile_banners/1939547132/1407118423',\n",
        "  u'profile_image_url': u'http://pbs.twimg.com/profile_images/496116469932240896/32fIfDBr_normal.jpeg',\n",
        "  u'profile_image_url_https': u'https://pbs.twimg.com/profile_images/496116469932240896/32fIfDBr_normal.jpeg',\n",
        "  u'profile_link_color': u'B86CA9',\n",
        "  u'profile_sidebar_border_color': u'FFFFFF',\n",
        "  u'profile_sidebar_fill_color': u'DDEEF6',\n",
        "  u'profile_text_color': u'333333',\n",
        "  u'profile_use_background_image': True,\n",
        "  u'protected': False,\n",
        "  u'screen_name': u'littlemixdiosas',\n",
        "  u'statuses_count': 1547,\n",
        "  u'time_zone': u'Brasilia',\n",
        "  u'url': None,\n",
        "  u'utc_offset': -10800,\n",
        "  u'verified': False}}"
       ]
      }
     ],
     "prompt_number": 29
    },
    {
     "cell_type": "markdown",
     "metadata": {
      "slideshow": {
       "slide_type": "notes"
      }
     },
     "source": [
      "Notice the `_id` included in the document along with the values we already saw before."
     ]
    },
    {
     "cell_type": "markdown",
     "metadata": {
      "slideshow": {
       "slide_type": "slide"
      }
     },
     "source": [
      "Now that we have our data in MongoDB, we can use some of it's search functionality. For example:"
     ]
    },
    {
     "cell_type": "code",
     "collapsed": false,
     "input": [
      "popular_tweets = db.tweets.find({'retweet_count': {\"$gte\": 3}})\n",
      "popular_tweets.count()"
     ],
     "language": "python",
     "metadata": {
      "slideshow": {
       "slide_type": "fragment"
      }
     },
     "outputs": [
      {
       "metadata": {},
       "output_type": "pyout",
       "prompt_number": 30,
       "text": [
        "134"
       ]
      }
     ],
     "prompt_number": 30
    },
    {
     "cell_type": "markdown",
     "metadata": {
      "slideshow": {
       "slide_type": "slide"
      }
     },
     "source": [
      "Making Sense with Pandas\n",
      "========================"
     ]
    },
    {
     "cell_type": "code",
     "collapsed": false,
     "input": [
      "pd.DataFrame(db.tweets.find(fields=['created_at', 'retweet_count', 'favorite_count']))"
     ],
     "language": "python",
     "metadata": {
      "slideshow": {
       "slide_type": "slide"
      }
     },
     "outputs": [
      {
       "ename": "TypeError",
       "evalue": "data argument can't be an iterator",
       "output_type": "pyerr",
       "traceback": [
        "\u001b[0;31m---------------------------------------------------------------------------\u001b[0m\n\u001b[0;31mTypeError\u001b[0m                                 Traceback (most recent call last)",
        "\u001b[0;32m<ipython-input-36-87a1cfed5405>\u001b[0m in \u001b[0;36m<module>\u001b[0;34m()\u001b[0m\n\u001b[0;32m----> 1\u001b[0;31m \u001b[0mpd\u001b[0m\u001b[0;34m.\u001b[0m\u001b[0mDataFrame\u001b[0m\u001b[0;34m(\u001b[0m\u001b[0mdb\u001b[0m\u001b[0;34m.\u001b[0m\u001b[0mtweets\u001b[0m\u001b[0;34m.\u001b[0m\u001b[0mfind\u001b[0m\u001b[0;34m(\u001b[0m\u001b[0mfields\u001b[0m\u001b[0;34m=\u001b[0m\u001b[0;34m[\u001b[0m\u001b[0;34m'created_at'\u001b[0m\u001b[0;34m,\u001b[0m \u001b[0;34m'retweet_count'\u001b[0m\u001b[0;34m,\u001b[0m \u001b[0;34m'favorite_count'\u001b[0m\u001b[0;34m]\u001b[0m\u001b[0;34m)\u001b[0m\u001b[0;34m)\u001b[0m\u001b[0;34m\u001b[0m\u001b[0m\n\u001b[0m",
        "\u001b[0;32m/Users/dstevens/anaconda/lib/python2.7/site-packages/pandas/core/frame.pyc\u001b[0m in \u001b[0;36m__init__\u001b[0;34m(self, data, index, columns, dtype, copy)\u001b[0m\n\u001b[1;32m    255\u001b[0m                                          copy=copy)\n\u001b[1;32m    256\u001b[0m         \u001b[0;32melif\u001b[0m \u001b[0misinstance\u001b[0m\u001b[0;34m(\u001b[0m\u001b[0mdata\u001b[0m\u001b[0;34m,\u001b[0m \u001b[0mcollections\u001b[0m\u001b[0;34m.\u001b[0m\u001b[0mIterator\u001b[0m\u001b[0;34m)\u001b[0m\u001b[0;34m:\u001b[0m\u001b[0;34m\u001b[0m\u001b[0m\n\u001b[0;32m--> 257\u001b[0;31m             \u001b[0;32mraise\u001b[0m \u001b[0mTypeError\u001b[0m\u001b[0;34m(\u001b[0m\u001b[0;34m\"data argument can't be an iterator\"\u001b[0m\u001b[0;34m)\u001b[0m\u001b[0;34m\u001b[0m\u001b[0m\n\u001b[0m\u001b[1;32m    258\u001b[0m         \u001b[0;32melse\u001b[0m\u001b[0;34m:\u001b[0m\u001b[0;34m\u001b[0m\u001b[0m\n\u001b[1;32m    259\u001b[0m             \u001b[0;32mtry\u001b[0m\u001b[0;34m:\u001b[0m\u001b[0;34m\u001b[0m\u001b[0m\n",
        "\u001b[0;31mTypeError\u001b[0m: data argument can't be an iterator"
       ]
      }
     ],
     "prompt_number": 36
    },
    {
     "cell_type": "code",
     "collapsed": false,
     "input": [
      "retweet_favorites = pd.DataFrame(list(db.tweets.find(fields=['created_at','retweet_count','favorite_count'])))\n",
      "retweet_favorites.head()"
     ],
     "language": "python",
     "metadata": {
      "slideshow": {
       "slide_type": "subslide"
      }
     },
     "outputs": [
      {
       "html": [
        "<div style=\"max-height:1000px;max-width:1500px;overflow:auto;\">\n",
        "<table border=\"1\" class=\"dataframe\">\n",
        "  <thead>\n",
        "    <tr style=\"text-align: right;\">\n",
        "      <th></th>\n",
        "      <th>_id</th>\n",
        "      <th>created_at</th>\n",
        "      <th>favorite_count</th>\n",
        "      <th>retweet_count</th>\n",
        "    </tr>\n",
        "  </thead>\n",
        "  <tbody>\n",
        "    <tr>\n",
        "      <th>0</th>\n",
        "      <td> 53e1042ed99f0c7792c484fe</td>\n",
        "      <td> Tue Aug 05 16:04:25 +0000 2014</td>\n",
        "      <td> 0</td>\n",
        "      <td>  0</td>\n",
        "    </tr>\n",
        "    <tr>\n",
        "      <th>1</th>\n",
        "      <td> 53e1042ed99f0c7792c484f7</td>\n",
        "      <td> Tue Aug 05 16:04:26 +0000 2014</td>\n",
        "      <td> 0</td>\n",
        "      <td> 96</td>\n",
        "    </tr>\n",
        "    <tr>\n",
        "      <th>2</th>\n",
        "      <td> 53e1042ed99f0c7792c484f8</td>\n",
        "      <td> Tue Aug 05 16:04:26 +0000 2014</td>\n",
        "      <td> 0</td>\n",
        "      <td> 23</td>\n",
        "    </tr>\n",
        "    <tr>\n",
        "      <th>3</th>\n",
        "      <td> 53e1042ed99f0c7792c484f9</td>\n",
        "      <td> Tue Aug 05 16:04:25 +0000 2014</td>\n",
        "      <td> 0</td>\n",
        "      <td> 54</td>\n",
        "    </tr>\n",
        "    <tr>\n",
        "      <th>4</th>\n",
        "      <td> 53e1042ed99f0c7792c484fa</td>\n",
        "      <td> Tue Aug 05 16:04:25 +0000 2014</td>\n",
        "      <td> 0</td>\n",
        "      <td>  3</td>\n",
        "    </tr>\n",
        "  </tbody>\n",
        "</table>\n",
        "</div>"
       ],
       "metadata": {},
       "output_type": "pyout",
       "prompt_number": 37,
       "text": [
        "                        _id                      created_at  favorite_count  \\\n",
        "0  53e1042ed99f0c7792c484fe  Tue Aug 05 16:04:25 +0000 2014               0   \n",
        "1  53e1042ed99f0c7792c484f7  Tue Aug 05 16:04:26 +0000 2014               0   \n",
        "2  53e1042ed99f0c7792c484f8  Tue Aug 05 16:04:26 +0000 2014               0   \n",
        "3  53e1042ed99f0c7792c484f9  Tue Aug 05 16:04:25 +0000 2014               0   \n",
        "4  53e1042ed99f0c7792c484fa  Tue Aug 05 16:04:25 +0000 2014               0   \n",
        "\n",
        "   retweet_count  \n",
        "0              0  \n",
        "1             96  \n",
        "2             23  \n",
        "3             54  \n",
        "4              3  "
       ]
      }
     ],
     "prompt_number": 37
    },
    {
     "cell_type": "markdown",
     "metadata": {
      "slideshow": {
       "slide_type": "slide"
      }
     },
     "source": [
      "`.describe()` is a useful method to get the gist of our data."
     ]
    },
    {
     "cell_type": "code",
     "collapsed": false,
     "input": [
      "retweet_favorites.describe()"
     ],
     "language": "python",
     "metadata": {
      "slideshow": {
       "slide_type": "-"
      }
     },
     "outputs": [
      {
       "html": [
        "<div style=\"max-height:1000px;max-width:1500px;overflow:auto;\">\n",
        "<table border=\"1\" class=\"dataframe\">\n",
        "  <thead>\n",
        "    <tr style=\"text-align: right;\">\n",
        "      <th></th>\n",
        "      <th>favorite_count</th>\n",
        "      <th>retweet_count</th>\n",
        "    </tr>\n",
        "  </thead>\n",
        "  <tbody>\n",
        "    <tr>\n",
        "      <th>count</th>\n",
        "      <td> 200</td>\n",
        "      <td>  200.00000</td>\n",
        "    </tr>\n",
        "    <tr>\n",
        "      <th>mean</th>\n",
        "      <td>   0</td>\n",
        "      <td>   83.80000</td>\n",
        "    </tr>\n",
        "    <tr>\n",
        "      <th>std</th>\n",
        "      <td>   0</td>\n",
        "      <td>  210.58805</td>\n",
        "    </tr>\n",
        "    <tr>\n",
        "      <th>min</th>\n",
        "      <td>   0</td>\n",
        "      <td>    0.00000</td>\n",
        "    </tr>\n",
        "    <tr>\n",
        "      <th>25%</th>\n",
        "      <td>   0</td>\n",
        "      <td>    1.00000</td>\n",
        "    </tr>\n",
        "    <tr>\n",
        "      <th>50%</th>\n",
        "      <td>   0</td>\n",
        "      <td>   11.50000</td>\n",
        "    </tr>\n",
        "    <tr>\n",
        "      <th>75%</th>\n",
        "      <td>   0</td>\n",
        "      <td>   61.00000</td>\n",
        "    </tr>\n",
        "    <tr>\n",
        "      <th>max</th>\n",
        "      <td>   0</td>\n",
        "      <td> 1330.00000</td>\n",
        "    </tr>\n",
        "  </tbody>\n",
        "</table>\n",
        "</div>"
       ],
       "metadata": {},
       "output_type": "pyout",
       "prompt_number": 38,
       "text": [
        "       favorite_count  retweet_count\n",
        "count             200      200.00000\n",
        "mean                0       83.80000\n",
        "std                 0      210.58805\n",
        "min                 0        0.00000\n",
        "25%                 0        1.00000\n",
        "50%                 0       11.50000\n",
        "75%                 0       61.00000\n",
        "max                 0     1330.00000"
       ]
      }
     ],
     "prompt_number": 38
    },
    {
     "cell_type": "markdown",
     "metadata": {
      "slideshow": {
       "slide_type": "subslide"
      }
     },
     "source": [
      "However, when applied to a DataFrame, it only describes numeric columns."
     ]
    },
    {
     "cell_type": "code",
     "collapsed": false,
     "input": [
      "retweet_favorites.dtypes"
     ],
     "language": "python",
     "metadata": {
      "slideshow": {
       "slide_type": "-"
      }
     },
     "outputs": [
      {
       "metadata": {},
       "output_type": "pyout",
       "prompt_number": 39,
       "text": [
        "_id               object\n",
        "created_at        object\n",
        "favorite_count     int64\n",
        "retweet_count      int64\n",
        "dtype: object"
       ]
      }
     ],
     "prompt_number": 39
    },
    {
     "cell_type": "markdown",
     "metadata": {
      "slideshow": {
       "slide_type": "subslide"
      }
     },
     "source": [
      "`.describe()` can be called on individual columns (i.e. `Series`), even if they are not numeric."
     ]
    },
    {
     "cell_type": "code",
     "collapsed": false,
     "input": [
      "retweet_favorites.created_at.describe()"
     ],
     "language": "python",
     "metadata": {
      "slideshow": {
       "slide_type": "-"
      }
     },
     "outputs": [
      {
       "metadata": {},
       "output_type": "pyout",
       "prompt_number": 40,
       "text": [
        "count                                200\n",
        "unique                                17\n",
        "top       Tue Aug 05 16:04:11 +0000 2014\n",
        "freq                                  17\n",
        "dtype: object"
       ]
      }
     ],
     "prompt_number": 40
    },
    {
     "cell_type": "markdown",
     "metadata": {
      "slideshow": {
       "slide_type": "fragment"
      }
     },
     "source": [
      "However, in this case `created_at` is being treated as a string, which is not very helpful. We can fix that with `pandas.to_datetime`:"
     ]
    },
    {
     "cell_type": "code",
     "collapsed": false,
     "input": [
      "retweet_favorites.created_at.map(pd.to_datetime).describe()"
     ],
     "language": "python",
     "metadata": {
      "slideshow": {
       "slide_type": "fragment"
      }
     },
     "outputs": [
      {
       "metadata": {},
       "output_type": "pyout",
       "prompt_number": 41,
       "text": [
        "count                     200\n",
        "unique                     17\n",
        "first     2014-08-05 16:04:10\n",
        "last      2014-08-05 16:04:26\n",
        "top       2014-08-05 16:04:11\n",
        "freq                       17\n",
        "dtype: object"
       ]
      }
     ],
     "prompt_number": 41
    },
    {
     "cell_type": "markdown",
     "metadata": {
      "slideshow": {
       "slide_type": "notes"
      }
     },
     "source": [
      "Not all that interesting though, since all of these tweets were collected within a couple seconds of each other."
     ]
    },
    {
     "cell_type": "markdown",
     "metadata": {
      "slideshow": {
       "slide_type": "slide"
      }
     },
     "source": [
      "Mongo allows us to access subfields directly."
     ]
    },
    {
     "cell_type": "code",
     "collapsed": false,
     "input": [
      "mentions_followers = list(db.tweets.find(fields=['entities.user_mentions', 'user.followers_count']))\n",
      "pd.DataFrame(mentions_followers).head()"
     ],
     "language": "python",
     "metadata": {
      "slideshow": {
       "slide_type": "-"
      }
     },
     "outputs": [
      {
       "html": [
        "<div style=\"max-height:1000px;max-width:1500px;overflow:auto;\">\n",
        "<table border=\"1\" class=\"dataframe\">\n",
        "  <thead>\n",
        "    <tr style=\"text-align: right;\">\n",
        "      <th></th>\n",
        "      <th>_id</th>\n",
        "      <th>entities</th>\n",
        "      <th>user</th>\n",
        "    </tr>\n",
        "  </thead>\n",
        "  <tbody>\n",
        "    <tr>\n",
        "      <th>0</th>\n",
        "      <td> 53e1042ed99f0c7792c484fe</td>\n",
        "      <td>                            {u'user_mentions': []}</td>\n",
        "      <td>  {u'followers_count': 266}</td>\n",
        "    </tr>\n",
        "    <tr>\n",
        "      <th>1</th>\n",
        "      <td> 53e1042ed99f0c7792c484f7</td>\n",
        "      <td> {u'user_mentions': [{u'indices': [3, 14], u'sc...</td>\n",
        "      <td>  {u'followers_count': 160}</td>\n",
        "    </tr>\n",
        "    <tr>\n",
        "      <th>2</th>\n",
        "      <td> 53e1042ed99f0c7792c484f8</td>\n",
        "      <td> {u'user_mentions': [{u'indices': [3, 14], u'sc...</td>\n",
        "      <td> {u'followers_count': 2426}</td>\n",
        "    </tr>\n",
        "    <tr>\n",
        "      <th>3</th>\n",
        "      <td> 53e1042ed99f0c7792c484f9</td>\n",
        "      <td> {u'user_mentions': [{u'indices': [3, 13], u'sc...</td>\n",
        "      <td> {u'followers_count': 1142}</td>\n",
        "    </tr>\n",
        "    <tr>\n",
        "      <th>4</th>\n",
        "      <td> 53e1042ed99f0c7792c484fa</td>\n",
        "      <td> {u'user_mentions': [{u'indices': [3, 14], u'sc...</td>\n",
        "      <td> {u'followers_count': 2855}</td>\n",
        "    </tr>\n",
        "  </tbody>\n",
        "</table>\n",
        "</div>"
       ],
       "metadata": {},
       "output_type": "pyout",
       "prompt_number": 42,
       "text": [
        "                        _id  \\\n",
        "0  53e1042ed99f0c7792c484fe   \n",
        "1  53e1042ed99f0c7792c484f7   \n",
        "2  53e1042ed99f0c7792c484f8   \n",
        "3  53e1042ed99f0c7792c484f9   \n",
        "4  53e1042ed99f0c7792c484fa   \n",
        "\n",
        "                                            entities  \\\n",
        "0                             {u'user_mentions': []}   \n",
        "1  {u'user_mentions': [{u'indices': [3, 14], u'sc...   \n",
        "2  {u'user_mentions': [{u'indices': [3, 14], u'sc...   \n",
        "3  {u'user_mentions': [{u'indices': [3, 13], u'sc...   \n",
        "4  {u'user_mentions': [{u'indices': [3, 14], u'sc...   \n",
        "\n",
        "                         user  \n",
        "0   {u'followers_count': 266}  \n",
        "1   {u'followers_count': 160}  \n",
        "2  {u'followers_count': 2426}  \n",
        "3  {u'followers_count': 1142}  \n",
        "4  {u'followers_count': 2855}  "
       ]
      }
     ],
     "prompt_number": 42
    },
    {
     "cell_type": "markdown",
     "metadata": {
      "slideshow": {
       "slide_type": "subslide"
      }
     },
     "source": [
      "Pandas doesn't know how to parse the sub-documents however, so we must tell it explicitly:"
     ]
    },
    {
     "cell_type": "code",
     "collapsed": false,
     "input": [
      "mentions_followers_df = pd.DataFrame({'user_mentions': len(tweet['entities']['user_mentions']), \n",
      "              'followers_count': tweet['user'].get('followers_count')} for tweet in mentions_followers)\n",
      "mentions_followers_df.head()"
     ],
     "language": "python",
     "metadata": {
      "slideshow": {
       "slide_type": "-"
      }
     },
     "outputs": [
      {
       "html": [
        "<div style=\"max-height:1000px;max-width:1500px;overflow:auto;\">\n",
        "<table border=\"1\" class=\"dataframe\">\n",
        "  <thead>\n",
        "    <tr style=\"text-align: right;\">\n",
        "      <th></th>\n",
        "      <th>followers_count</th>\n",
        "      <th>user_mentions</th>\n",
        "    </tr>\n",
        "  </thead>\n",
        "  <tbody>\n",
        "    <tr>\n",
        "      <th>0</th>\n",
        "      <td>  266</td>\n",
        "      <td> 0</td>\n",
        "    </tr>\n",
        "    <tr>\n",
        "      <th>1</th>\n",
        "      <td>  160</td>\n",
        "      <td> 1</td>\n",
        "    </tr>\n",
        "    <tr>\n",
        "      <th>2</th>\n",
        "      <td> 2426</td>\n",
        "      <td> 1</td>\n",
        "    </tr>\n",
        "    <tr>\n",
        "      <th>3</th>\n",
        "      <td> 1142</td>\n",
        "      <td> 1</td>\n",
        "    </tr>\n",
        "    <tr>\n",
        "      <th>4</th>\n",
        "      <td> 2855</td>\n",
        "      <td> 1</td>\n",
        "    </tr>\n",
        "  </tbody>\n",
        "</table>\n",
        "</div>"
       ],
       "metadata": {},
       "output_type": "pyout",
       "prompt_number": 43,
       "text": [
        "   followers_count  user_mentions\n",
        "0              266              0\n",
        "1              160              1\n",
        "2             2426              1\n",
        "3             1142              1\n",
        "4             2855              1"
       ]
      }
     ],
     "prompt_number": 43
    },
    {
     "cell_type": "markdown",
     "metadata": {
      "slideshow": {
       "slide_type": "slide"
      }
     },
     "source": [
      "Perhaps `user_mentions` and `followers_count` are correlated?"
     ]
    },
    {
     "cell_type": "code",
     "collapsed": false,
     "input": [
      "plt.scatter(mentions_followers_df.user_mentions, mentions_followers_df.followers_count)\n",
      "mentions_followers_df.corr()"
     ],
     "language": "python",
     "metadata": {
      "slideshow": {
       "slide_type": "-"
      }
     },
     "outputs": [
      {
       "html": [
        "<div style=\"max-height:1000px;max-width:1500px;overflow:auto;\">\n",
        "<table border=\"1\" class=\"dataframe\">\n",
        "  <thead>\n",
        "    <tr style=\"text-align: right;\">\n",
        "      <th></th>\n",
        "      <th>followers_count</th>\n",
        "      <th>user_mentions</th>\n",
        "    </tr>\n",
        "  </thead>\n",
        "  <tbody>\n",
        "    <tr>\n",
        "      <th>followers_count</th>\n",
        "      <td> 1.000000</td>\n",
        "      <td>-0.065969</td>\n",
        "    </tr>\n",
        "    <tr>\n",
        "      <th>user_mentions</th>\n",
        "      <td>-0.065969</td>\n",
        "      <td> 1.000000</td>\n",
        "    </tr>\n",
        "  </tbody>\n",
        "</table>\n",
        "<p>2 rows \u00d7 2 columns</p>\n",
        "</div>"
       ],
       "metadata": {},
       "output_type": "pyout",
       "prompt_number": 25,
       "text": [
        "                 followers_count  user_mentions\n",
        "followers_count         1.000000      -0.065969\n",
        "user_mentions          -0.065969       1.000000\n",
        "\n",
        "[2 rows x 2 columns]"
       ]
      },
      {
       "metadata": {},
       "output_type": "display_data",
       "png": "[encoded data removed]",
       "text": [
        "<matplotlib.figure.Figure at 0x108878cd0>"
       ]
      }
     ],
     "prompt_number": 25
    },
    {
     "cell_type": "markdown",
     "metadata": {
      "slideshow": {
       "slide_type": "fragment"
      }
     },
     "source": [
      "Perhaps not."
     ]
    },
    {
     "cell_type": "markdown",
     "metadata": {
      "slideshow": {
       "slide_type": "slide"
      }
     },
     "source": [
      "Lab\n",
      "============\n",
      "1-2 Pairs\n",
      "------------"
     ]
    },
    {
     "cell_type": "markdown",
     "metadata": {
      "slideshow": {
       "slide_type": "fragment"
      }
     },
     "source": [
      "The [Yahoo! Where On Earth ID](https://developer.yahoo.com/geo/geoplanet/) of Canada is 23424775.  \n",
      "Use it to find Twitter trends in Canada and compare it to US trends. What's the difference between them?  \n",
      "\n",
      "- Insert the last 100 tweets for all Canada-only trends into a `canada` collection.  \n",
      "- Insert the last 100 tweets for all US-only trends into a `us` collections.  \n",
      "- For this (small and not very representative) sample, which users have the highest `follower_count`?"
     ]
    },
    {
     "cell_type": "markdown",
     "metadata": {
      "slideshow": {
       "slide_type": "fragment"
      }
     },
     "source": [
      "Individually (or as an extension to the pairs lab)\n",
      "------------\n",
      "Find tweets where `'retweet_count': {\"$gt\": 0}`.  \n",
      "What is their `count`?  \n",
      "Is there anything about them that stands out as retweetable?"
     ]
    },
    {
     "cell_type": "markdown",
     "metadata": {
      "slideshow": {
       "slide_type": "notes"
      }
     },
     "source": [
      "Further exercises:  \n",
      "\n",
      "* Twitter - _Mining-the-Social-Web-2nd-Edition_: [Chapter 1 - Mining Twitter](http://nbviewer.ipython.org/github/ptwobrussell/Mining-the-Social-Web-2nd-Edition/blob/master/ipynb/__Chapter%201%20-%20Mining%20Twitter%20%28Full-Text%20Sampler%29.ipynb)\n",
      "* Mongo - [Aggregation Framework](http://docs.mongodb.org/manual/aggregation/)"
     ]
    }
   ],
   "metadata": {}
  }
 ]
}