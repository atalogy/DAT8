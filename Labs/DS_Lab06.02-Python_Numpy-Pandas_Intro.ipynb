{
 "metadata": {
  "name": "",
  "signature": "sha256:0afc4a8ecff727a8f38c3754000d810996de1de5498751c3a1a7067ca97db99e"
 },
 "nbformat": 3,
 "nbformat_minor": 0,
 "worksheets": [
  {
   "cells": [
    {
     "cell_type": "markdown",
     "metadata": {},
     "source": [
      "# A Beginning Tutorial Numpy/Pandas"
     ]
    },
    {
     "cell_type": "markdown",
     "metadata": {},
     "source": [
      "### Content\n",
      "\n",
      "The goal of this tutorial is to provide you with a hands-on overview of two of\n",
      "the main libraries from the scientific and data analysis communities. We're going to\n",
      "use:\n",
      "\n",
      "- ipython -- [ipython.org](http://ipython.org/)\n",
      "- numpy -- [numpy.org](http://www.numpy.org)\n",
      "- pandas -- [pandas.pydata.org](http://pandas.pydata.org/)\n",
      "- scikit-learn -- [scikit-learn.org] (http://scikit-learn.org)\n",
      "- mrJob -- [http://pythonhosted.org/mrjob/] (http://pythonhosted.org/mrjob/)\n",
      "- (bonus) pytables -- [pytables.org](http://www.pytables.org)\n",
      "\n"
     ]
    },
    {
     "cell_type": "markdown",
     "metadata": {},
     "source": [
      "## Roadmap\n",
      "\n",
      "What exactly are we going to do? Here's high-level overview:\n",
      "\n",
      "- learn about NumPy arrays\n",
      "- learn about DataFrames"
     ]
    },
    {
     "cell_type": "markdown",
     "metadata": {},
     "source": [
      "## NumPy: Numerical Python\n",
      "\n",
      "### What is it?\n",
      "\n",
      "#####It is a Python library that provides \n",
      "* a multidimensional array object\n",
      "* various\n",
      "derived objects (such as masked arrays and matrices)\n",
      "* an assortment of\n",
      "routines for fast operations on arrays including: \n",
      "    * mathematical\n",
      "    * logical\n",
      "    * shape manipulation\n",
      "    * sorting\n",
      "    * selecting \n",
      "    * I/O \n",
      "    * discrete Fourier transforms\n",
      "    * basic linear algebra\n",
      "    * basic statistical operations\n",
      "    * random simulation \n",
      "    * and much more..."
     ]
    },
    {
     "cell_type": "code",
     "collapsed": false,
     "input": [
      "import numpy as np\n",
      "\n",
      "# set some print options\n",
      "np.set_printoptions(precision=4)\n",
      "np.set_printoptions(threshold=5)\n",
      "np.set_printoptions(suppress=True)\n",
      "\n",
      "# init random gen\n",
      "np.random.seed(2)"
     ],
     "language": "python",
     "metadata": {},
     "outputs": []
    },
    {
     "cell_type": "markdown",
     "metadata": {},
     "source": [
      "### NumPy's basic data structure: the ndarray\n",
      "\n",
      "ndarrays is a basic building blocks for python data. \n",
      "\n",
      "A multidimensional array\n",
      "object that acts as a container for data to be passed between algorithms. Also,\n",
      "libraries written in a lower-level language, such as C or Fortran, can operate\n",
      "on the data stored in a NumPy array without copying any data.\n"
     ]
    },
    {
     "cell_type": "code",
     "collapsed": false,
     "input": [
      "import numpy as np\n",
      "\n",
      "# build an array using the array function\n",
      "arr = np.array([0, 9, 5, 4, 3])\n",
      "arr"
     ],
     "language": "python",
     "metadata": {},
     "outputs": []
    },
    {
     "cell_type": "markdown",
     "metadata": {},
     "source": [
      "### Array creation examples\n",
      "\n",
      "There are several functions that are used to create new arrays:\n",
      "\n",
      "- `np.array`\n",
      "- `np.asarray`\n",
      "- `np.arange`\n",
      "- `np.ones`\n",
      "- `np.ones_like`\n",
      "- `np.zeros`\n",
      "- `np.zeros_like`\n",
      "- `np.empty`\n",
      "- `np.random.randn` and other funcs from the random module"
     ]
    },
    {
     "cell_type": "code",
     "collapsed": false,
     "input": [
      "np.zeros(4)"
     ],
     "language": "python",
     "metadata": {},
     "outputs": []
    },
    {
     "cell_type": "code",
     "collapsed": false,
     "input": [
      "np.ones(4)"
     ],
     "language": "python",
     "metadata": {},
     "outputs": []
    },
    {
     "cell_type": "code",
     "collapsed": false,
     "input": [
      "np.empty(4)"
     ],
     "language": "python",
     "metadata": {},
     "outputs": []
    },
    {
     "cell_type": "code",
     "collapsed": false,
     "input": [
      "np.arange(4)"
     ],
     "language": "python",
     "metadata": {},
     "outputs": []
    },
    {
     "cell_type": "markdown",
     "metadata": {},
     "source": [
      "### dtype and shape\n",
      "\n",
      "NumPy's arrays are containers of homogeneous data, which means all elements are\n",
      "of the same type. The 'dtype' propery is an object that specifies the data type\n",
      "of each element. The 'shape' property is a tuple that indicates the size of each\n",
      "dimension."
     ]
    },
    {
     "cell_type": "code",
     "collapsed": false,
     "input": [
      "arr = np.random.randn(5)\n",
      "arr"
     ],
     "language": "python",
     "metadata": {},
     "outputs": []
    },
    {
     "cell_type": "code",
     "collapsed": false,
     "input": [
      "arr.dtype"
     ],
     "language": "python",
     "metadata": {},
     "outputs": []
    },
    {
     "cell_type": "code",
     "collapsed": false,
     "input": [
      "arr.shape"
     ],
     "language": "python",
     "metadata": {},
     "outputs": []
    },
    {
     "cell_type": "code",
     "collapsed": false,
     "input": [
      "# you can be explicit about the data type that you want\n",
      "np.empty(4, dtype=np.int32)"
     ],
     "language": "python",
     "metadata": {},
     "outputs": []
    },
    {
     "cell_type": "code",
     "collapsed": false,
     "input": [
      "np.array(['numpy','pandas','pytables'], dtype=np.string_)"
     ],
     "language": "python",
     "metadata": {},
     "outputs": []
    },
    {
     "cell_type": "code",
     "collapsed": false,
     "input": [
      "float_arr = np.array([4.4, 5.52425, -0.1234, 98.1], dtype=np.float64)\n",
      "# truncate the decimal part\n",
      "float_arr.astype(np.int32)"
     ],
     "language": "python",
     "metadata": {},
     "outputs": []
    },
    {
     "cell_type": "markdown",
     "metadata": {},
     "source": [
      "### Indexing and slicing\n",
      "\n",
      "#### This is consistent with Python standards for list slicing"
     ]
    },
    {
     "cell_type": "code",
     "collapsed": false,
     "input": [
      "arr = np.array([0, 9, 1, 4, 64])\n",
      "arr[3]"
     ],
     "language": "python",
     "metadata": {},
     "outputs": []
    },
    {
     "cell_type": "code",
     "collapsed": false,
     "input": [
      "arr[1:3]"
     ],
     "language": "python",
     "metadata": {},
     "outputs": []
    },
    {
     "cell_type": "code",
     "collapsed": false,
     "input": [
      "arr[:2]"
     ],
     "language": "python",
     "metadata": {},
     "outputs": []
    },
    {
     "cell_type": "heading",
     "level": 6,
     "metadata": {},
     "source": [
      "assignment using slicing"
     ]
    },
    {
     "cell_type": "code",
     "collapsed": false,
     "input": [
      "# set the last two elements to 555\n",
      "arr[-2:] = 55\n",
      "arr"
     ],
     "language": "python",
     "metadata": {},
     "outputs": []
    },
    {
     "cell_type": "markdown",
     "metadata": {},
     "source": [
      "#### Indexing behaviour for multidimensional arrays\n",
      "\n",
      "A good way to think about indexing in multidimensional arrays is that you are\n",
      "moving along the values of the shape property. So, a 4d array `arr_4d`, with a\n",
      "shape of `(w,x,y,z)` will result in indexed views such that:\n",
      "\n",
      "- `arr_4d[i].shape == (x,y,z)`\n",
      "- `arr_4d[i,j].shape == (y,z)`\n",
      "- `arr_4d[i,j,k].shape == (z,)`\n",
      "\n",
      "For the case of slices, what you are doing is selecting a range of elements\n",
      "along a particular axis:"
     ]
    },
    {
     "cell_type": "code",
     "collapsed": false,
     "input": [
      "arr_2d = np.array([[5,3,4],[0,1,2],[1,1,10],[0,0,0.1]])\n",
      "arr_2d"
     ],
     "language": "python",
     "metadata": {},
     "outputs": []
    },
    {
     "cell_type": "code",
     "collapsed": false,
     "input": [
      "# get the first row\n",
      "arr_2d[0]"
     ],
     "language": "python",
     "metadata": {},
     "outputs": []
    },
    {
     "cell_type": "code",
     "collapsed": false,
     "input": [
      "# get the first column\n",
      "arr_2d[:,0]"
     ],
     "language": "python",
     "metadata": {},
     "outputs": []
    },
    {
     "cell_type": "code",
     "collapsed": false,
     "input": [
      "# get the first two rows\n",
      "arr_2d[:2]"
     ],
     "language": "python",
     "metadata": {},
     "outputs": []
    },
    {
     "cell_type": "markdown",
     "metadata": {},
     "source": [
      "#### Careful, it's a view!\n",
      "\n",
      "A slice does not return a copy, which means that any modifications will be\n",
      "reflected in the source array. This is a design feature of NumPy to avoid memory\n",
      "problems."
     ]
    },
    {
     "cell_type": "code",
     "collapsed": false,
     "input": [
      "arr = np.array([0, 3, 1, 4, 64])\n",
      "arr"
     ],
     "language": "python",
     "metadata": {},
     "outputs": []
    },
    {
     "cell_type": "code",
     "collapsed": false,
     "input": [
      "subarr = arr[2:4]\n",
      "subarr[1] = 99\n",
      "arr"
     ],
     "language": "python",
     "metadata": {},
     "outputs": []
    },
    {
     "cell_type": "markdown",
     "metadata": {},
     "source": [
      "#### (Fancy) Boolean indexing\n",
      "\n",
      "Boolean indexing allows you to select data subsets of an array that satisfy a\n",
      "given condition."
     ]
    },
    {
     "cell_type": "code",
     "collapsed": false,
     "input": [
      "arr = np.array([10, 20, 30, 40, 50, 60])\n",
      "idx = np.array([True, False, False, False, False, True])\n",
      "arr[idx]\n"
     ],
     "language": "python",
     "metadata": {},
     "outputs": []
    },
    {
     "cell_type": "code",
     "collapsed": false,
     "input": [
      "arr_2d = np.random.randn(5)\n",
      "arr_2d\n"
     ],
     "language": "python",
     "metadata": {},
     "outputs": []
    },
    {
     "cell_type": "code",
     "collapsed": false,
     "input": [
      "arr_2d < 0"
     ],
     "language": "python",
     "metadata": {},
     "outputs": []
    },
    {
     "cell_type": "code",
     "collapsed": false,
     "input": [
      "arr_2d[arr_2d < 0]"
     ],
     "language": "python",
     "metadata": {},
     "outputs": []
    },
    {
     "cell_type": "code",
     "collapsed": false,
     "input": [
      "arr_2d[(arr_2d > -0.5) & (arr_2d < 0)]"
     ],
     "language": "python",
     "metadata": {},
     "outputs": []
    },
    {
     "cell_type": "code",
     "collapsed": false,
     "input": [
      "arr_2d[arr_2d < 0] = 0\n",
      "arr_2d"
     ],
     "language": "python",
     "metadata": {},
     "outputs": []
    },
    {
     "cell_type": "markdown",
     "metadata": {},
     "source": [
      "#### (Fancy) list-of-locations indexing\n",
      "\n",
      "Fancy indexing is indexing with integer arrays."
     ]
    },
    {
     "cell_type": "code",
     "collapsed": false,
     "input": [
      "arr = np.arange(18).reshape(6,3)\n",
      "arr"
     ],
     "language": "python",
     "metadata": {},
     "outputs": []
    },
    {
     "cell_type": "code",
     "collapsed": false,
     "input": [
      "# fancy selection of rows in a particular order\n",
      "arr[[0,4,4]]"
     ],
     "language": "python",
     "metadata": {},
     "outputs": []
    },
    {
     "cell_type": "code",
     "collapsed": false,
     "input": [
      "# index into individual elements and flatten\n",
      "arr[[5,3,1]]"
     ],
     "language": "python",
     "metadata": {},
     "outputs": []
    },
    {
     "cell_type": "code",
     "collapsed": false,
     "input": [
      "arr[[5,3,1],[2,1,0]]"
     ],
     "language": "python",
     "metadata": {},
     "outputs": []
    },
    {
     "cell_type": "code",
     "collapsed": false,
     "input": [
      "# select a submatrix\n",
      "arr[np.ix_([5,3,1],[2,1])]"
     ],
     "language": "python",
     "metadata": {},
     "outputs": []
    },
    {
     "cell_type": "markdown",
     "metadata": {},
     "source": [
      "### Vectorization\n",
      "Vectorization is at the heart of NumPy and it enables us to express operations\n",
      "without writing any for loops.  Operations between arrays with equal shapes are\n",
      "performed element-wise.\n"
     ]
    },
    {
     "cell_type": "code",
     "collapsed": false,
     "input": [
      "arr = np.array([0, 9, 1.02, 4, 32])\n",
      "arr - arr"
     ],
     "language": "python",
     "metadata": {},
     "outputs": []
    },
    {
     "cell_type": "code",
     "collapsed": false,
     "input": [
      "arr * arr\n"
     ],
     "language": "python",
     "metadata": {},
     "outputs": []
    },
    {
     "cell_type": "markdown",
     "metadata": {},
     "source": [
      "### Broadcasting Rules\n",
      "\n",
      "Vectorized operations between arrays of different sizes and between arrays and\n",
      "scalars are subject to the rules of broadcasting. The idea is quite simple in\n",
      "many cases:\n"
     ]
    },
    {
     "cell_type": "code",
     "collapsed": false,
     "input": [
      "arr = np.array([0, 9, 1.02, 4, 64])\n",
      "5 * arr "
     ],
     "language": "python",
     "metadata": {},
     "outputs": []
    },
    {
     "cell_type": "code",
     "collapsed": false,
     "input": [
      "10 + arr"
     ],
     "language": "python",
     "metadata": {},
     "outputs": []
    },
    {
     "cell_type": "code",
     "collapsed": false,
     "input": [
      "arr ** .5"
     ],
     "language": "python",
     "metadata": {},
     "outputs": []
    },
    {
     "cell_type": "markdown",
     "metadata": {},
     "source": [
      "The case of arrays of different shapes is slightly more complicated. \n",
      "\n",
      "The shape of the operands need to conform to a certain specification. (Don't worry if this does not make sense right away.)"
     ]
    },
    {
     "cell_type": "code",
     "collapsed": false,
     "input": [
      "arr = np.random.randn(4,2)\n",
      "arr"
     ],
     "language": "python",
     "metadata": {},
     "outputs": []
    },
    {
     "cell_type": "code",
     "collapsed": false,
     "input": [
      "mean_row = np.mean(arr, axis=0)\n",
      "mean_row"
     ],
     "language": "python",
     "metadata": {},
     "outputs": []
    },
    {
     "cell_type": "code",
     "collapsed": false,
     "input": [
      "centered_rows = arr - mean_row\n",
      "centered_rows"
     ],
     "language": "python",
     "metadata": {},
     "outputs": []
    },
    {
     "cell_type": "code",
     "collapsed": false,
     "input": [
      "np.mean(centered_rows, axis=0)"
     ],
     "language": "python",
     "metadata": {},
     "outputs": []
    },
    {
     "cell_type": "code",
     "collapsed": false,
     "input": [
      "mean_col = np.mean(arr, axis=1)\n",
      "mean_col"
     ],
     "language": "python",
     "metadata": {},
     "outputs": []
    },
    {
     "cell_type": "code",
     "collapsed": false,
     "input": [
      "centered_cols = arr - mean_col"
     ],
     "language": "python",
     "metadata": {},
     "outputs": []
    },
    {
     "cell_type": "code",
     "collapsed": false,
     "input": [
      "# make the 1-D array a column vector\n",
      "mean_col.reshape((4,1))"
     ],
     "language": "python",
     "metadata": {},
     "outputs": []
    },
    {
     "cell_type": "code",
     "collapsed": false,
     "input": [
      "centered_cols = arr - mean_col.reshape((4,1))\n",
      "centered_cols"
     ],
     "language": "python",
     "metadata": {},
     "outputs": []
    },
    {
     "cell_type": "code",
     "collapsed": false,
     "input": [
      "centered_cols.mean(axis=1)"
     ],
     "language": "python",
     "metadata": {},
     "outputs": []
    },
    {
     "cell_type": "code",
     "collapsed": false,
     "input": [
      "centered_cols.argmax(axis=0)"
     ],
     "language": "python",
     "metadata": {},
     "outputs": []
    },
    {
     "cell_type": "code",
     "collapsed": false,
     "input": [
      "centered_cols.argmin(axis=1)"
     ],
     "language": "python",
     "metadata": {},
     "outputs": []
    },
    {
     "cell_type": "heading",
     "level": 6,
     "metadata": {},
     "source": [
      "sum and cumulative sum"
     ]
    },
    {
     "cell_type": "code",
     "collapsed": false,
     "input": [
      "sum_arr=np.arange(20).reshape(5,4)\n",
      "sum_arr"
     ],
     "language": "python",
     "metadata": {},
     "outputs": []
    },
    {
     "cell_type": "code",
     "collapsed": false,
     "input": [
      "sum_arr.sum(axis=0)"
     ],
     "language": "python",
     "metadata": {},
     "outputs": []
    },
    {
     "cell_type": "code",
     "collapsed": false,
     "input": [
      "sum_arr.sum(axis=1)"
     ],
     "language": "python",
     "metadata": {},
     "outputs": []
    },
    {
     "cell_type": "code",
     "collapsed": false,
     "input": [
      "sum_arr.cumsum(axis=0)"
     ],
     "language": "python",
     "metadata": {},
     "outputs": []
    },
    {
     "cell_type": "code",
     "collapsed": false,
     "input": [
      "sum_arr.cumsum(axis=1)"
     ],
     "language": "python",
     "metadata": {},
     "outputs": []
    },
    {
     "cell_type": "code",
     "collapsed": false,
     "input": [],
     "language": "python",
     "metadata": {},
     "outputs": []
    },
    {
     "cell_type": "heading",
     "level": 3,
     "metadata": {},
     "source": [
      "Expressing Conditional Logic as Array Operations"
     ]
    },
    {
     "cell_type": "code",
     "collapsed": false,
     "input": [
      "r_arr=np.random.randn(3,3)\n",
      "r_arr"
     ],
     "language": "python",
     "metadata": {},
     "outputs": []
    },
    {
     "cell_type": "code",
     "collapsed": false,
     "input": [
      "np.where(r_arr > 0, 1, -1)"
     ],
     "language": "python",
     "metadata": {},
     "outputs": []
    },
    {
     "cell_type": "markdown",
     "metadata": {},
     "source": [
      "#### A note about NANs: \n",
      "\n",
      "Per the floating point standard IEEE 754, NaN is a floating point value that, by definition, is not equal to any other floating point value."
     ]
    },
    {
     "cell_type": "code",
     "collapsed": false,
     "input": [
      "np.nan != np.nan"
     ],
     "language": "python",
     "metadata": {},
     "outputs": []
    },
    {
     "cell_type": "code",
     "collapsed": false,
     "input": [
      "np.array([10,5,4,np.nan,1,np.nan]) == np.nan"
     ],
     "language": "python",
     "metadata": {},
     "outputs": []
    },
    {
     "cell_type": "code",
     "collapsed": false,
     "input": [
      "np.isnan(np.array([10,5,4,np.nan,1,np.nan]))"
     ],
     "language": "python",
     "metadata": {},
     "outputs": []
    },
    {
     "cell_type": "markdown",
     "metadata": {},
     "source": [
      "## pandas: Python Data Analysis Library\n",
      "\n",
      "### Contents\n",
      "\n",
      "*Python has long been great for data munging and preparation, but less so for\n",
      "data analysis and modeling. pandas helps fill this gap, enabling you to carry\n",
      "out your entire data analysis workflow in Python without having to switch to a\n",
      "more domain specific language like R.*\n",
      "\n",
      "The heart of pandas is the DataFrame object for data manipulation. It features:\n",
      "\n",
      "- a powerful index object\n",
      "- data alignment\n",
      "- handling of missing data\n",
      "- aggregation with groupby\n",
      "- data manipuation via reshape, pivot, slice, merge, join"
     ]
    },
    {
     "cell_type": "code",
     "collapsed": false,
     "input": [
      "import pandas as pd\n",
      "\n",
      "pd.set_printoptions(precision=3, notebook_repr_html=True)"
     ],
     "language": "python",
     "metadata": {},
     "outputs": []
    },
    {
     "cell_type": "markdown",
     "metadata": {},
     "source": [
      "### Series: labelled arrays\n",
      "\n",
      "The pandas Series is the simplest datastructure to start with. It is a subclass\n",
      "of ndarray that supports more meaninful indices."
     ]
    },
    {
     "cell_type": "markdown",
     "metadata": {},
     "source": [
      "#### Let's look at some creation examples for Series"
     ]
    },
    {
     "cell_type": "code",
     "collapsed": false,
     "input": [
      "import pandas as pd\n",
      "\n",
      "values = np.array([2.0, 1.0, 5.0, 0.97, 3.0, 10.0, 0.0599, 8.0])\n",
      "ser = pd.Series(values)\n",
      "print ser"
     ],
     "language": "python",
     "metadata": {},
     "outputs": []
    },
    {
     "cell_type": "code",
     "collapsed": false,
     "input": [
      "values = np.array([2.0, 1.0, 5.0, 0.97, 3.0, 10.0, 0.0599, 8.0])\n",
      "labels = ['A', 'B', 'C', 'D', 'E', 'F', 'G', 'H']\n",
      "ser = pd.Series(data=values, index=labels)\n",
      "print ser\n"
     ],
     "language": "python",
     "metadata": {},
     "outputs": []
    },
    {
     "cell_type": "code",
     "collapsed": false,
     "input": [
      "movie_rating = {\n",
      "    'age': 1,\n",
      "    'gender': 'F',\n",
      "    'genres': 'Drama',\n",
      "    'movie_id': 1193,\n",
      "    'occupation': 10,\n",
      "    'rating': 5,\n",
      "    'timestamp': 978300760,\n",
      "    'title': \"One Flew Over the Cuckoo's Nest (1975)\",\n",
      "    'user_id': 1,\n",
      "    'zip': '48067'\n",
      "    }\n",
      "ser = pd.Series(movie_rating)\n",
      "print ser\n"
     ],
     "language": "python",
     "metadata": {},
     "outputs": []
    },
    {
     "cell_type": "code",
     "collapsed": false,
     "input": [
      "ser.index"
     ],
     "language": "python",
     "metadata": {},
     "outputs": []
    },
    {
     "cell_type": "code",
     "collapsed": false,
     "input": [
      "ser.values"
     ],
     "language": "python",
     "metadata": {},
     "outputs": []
    },
    {
     "cell_type": "markdown",
     "metadata": {},
     "source": [
      "#### Series indexing"
     ]
    },
    {
     "cell_type": "code",
     "collapsed": false,
     "input": [
      "ser[0]"
     ],
     "language": "python",
     "metadata": {},
     "outputs": []
    },
    {
     "cell_type": "code",
     "collapsed": false,
     "input": [
      "ser['gender']"
     ],
     "language": "python",
     "metadata": {},
     "outputs": []
    },
    {
     "cell_type": "code",
     "collapsed": false,
     "input": [
      "ser.get_value('gender')"
     ],
     "language": "python",
     "metadata": {},
     "outputs": []
    },
    {
     "cell_type": "markdown",
     "metadata": {},
     "source": [
      "#### Operations between Series with different index objects"
     ]
    },
    {
     "cell_type": "code",
     "collapsed": false,
     "input": [
      "ser_1 = pd.Series(data=[1,3,4], index=['A', 'B', 'C'])\n",
      "ser_2 = pd.Series(data=[5,5,5], index=['A', 'G', 'C'])\n",
      "print ser_1 + ser_2\n"
     ],
     "language": "python",
     "metadata": {},
     "outputs": []
    },
    {
     "cell_type": "markdown",
     "metadata": {},
     "source": [
      "### DataFrame\n",
      "\n",
      "The DataFrame is the 2-dimensional version of a Series.\n",
      "\n",
      "#### Let's look at some creation examples for DataFrame\n",
      "\n",
      "You can think of it as a spreadsheet whose columns are Series objects."
     ]
    },
    {
     "cell_type": "code",
     "collapsed": false,
     "input": [
      "# build from a dict of equal-length lists or ndarrays\n",
      "pd.DataFrame({'col_1': [0.12, 7, 45, 10], \n",
      "              'col_2': [0.9, 9, 34, 11]})"
     ],
     "language": "python",
     "metadata": {},
     "outputs": []
    },
    {
     "cell_type": "markdown",
     "metadata": {},
     "source": [
      "You can explicitly set the column names and index values as well."
     ]
    },
    {
     "cell_type": "code",
     "collapsed": false,
     "input": [
      "pd.DataFrame(data={'col_1': [0.12, 7, 45, 10], \n",
      "                   'col_2': [0.9, 9, 34, 11]},\n",
      "             columns=['col_1', 'col_2', 'col_3'])"
     ],
     "language": "python",
     "metadata": {},
     "outputs": []
    },
    {
     "cell_type": "code",
     "collapsed": false,
     "input": [
      "pd.DataFrame(data={'col_1': [0.12, 7, 45, 10], \n",
      "                   'col_2': [0.9, 9, 34, 11]},\n",
      "             columns=['col_1', 'col_2', 'col_3'],\n",
      "             index=['obs1', 'obs2', 'obs3', 'obs4'])\n"
     ],
     "language": "python",
     "metadata": {},
     "outputs": []
    },
    {
     "cell_type": "markdown",
     "metadata": {},
     "source": [
      "You can also think of it as a dictionary of Series objects."
     ]
    },
    {
     "cell_type": "code",
     "collapsed": false,
     "input": [
      "movie_rating = {\n",
      "    'gender': 'F',\n",
      "    'genres': 'Drama',\n",
      "    'movie_id': 1193,\n",
      "    'rating': 5,\n",
      "    'timestamp': 978300760,\n",
      "    'user_id': 1,\n",
      "    }\n",
      "ser_1 = pd.Series(movie_rating)\n",
      "ser_2 = pd.Series(movie_rating)\n",
      "df = pd.DataFrame({'r_1': ser_1, 'r_2': ser_2})\n",
      "df.columns.name = 'rating_events'\n",
      "df.index.name = 'rating_data'\n",
      "df"
     ],
     "language": "python",
     "metadata": {},
     "outputs": []
    },
    {
     "cell_type": "code",
     "collapsed": false,
     "input": [
      "df = df.T\n",
      "df"
     ],
     "language": "python",
     "metadata": {},
     "outputs": []
    },
    {
     "cell_type": "code",
     "collapsed": false,
     "input": [
      "df.columns "
     ],
     "language": "python",
     "metadata": {},
     "outputs": []
    },
    {
     "cell_type": "code",
     "collapsed": false,
     "input": [
      "df.index"
     ],
     "language": "python",
     "metadata": {},
     "outputs": []
    },
    {
     "cell_type": "code",
     "collapsed": false,
     "input": [
      "df.values"
     ],
     "language": "python",
     "metadata": {},
     "outputs": []
    },
    {
     "cell_type": "markdown",
     "metadata": {},
     "source": [
      "#### Adding/Deleting entries"
     ]
    },
    {
     "cell_type": "code",
     "collapsed": false,
     "input": [
      "df = pd.DataFrame({'r_1': ser_1, 'r_2': ser_2})\n",
      "df.drop('genres', axis=0)"
     ],
     "language": "python",
     "metadata": {},
     "outputs": []
    },
    {
     "cell_type": "code",
     "collapsed": false,
     "input": [
      "df.drop('r_1', axis=1)"
     ],
     "language": "python",
     "metadata": {},
     "outputs": []
    },
    {
     "cell_type": "code",
     "collapsed": false,
     "input": [
      "# careful with the order here\n",
      "df['r_3'] = ['F', 'Drama', 1193, 5, 978300760, 1]\n",
      "df"
     ],
     "language": "python",
     "metadata": {},
     "outputs": []
    },
    {
     "cell_type": "markdown",
     "metadata": {},
     "source": [
      "#### DataFrame indexing"
     ]
    },
    {
     "cell_type": "markdown",
     "metadata": {},
     "source": [
      "You can index into a column using it's label, or with dot notation\n"
     ]
    },
    {
     "cell_type": "code",
     "collapsed": false,
     "input": [
      "df = pd.DataFrame(data={'col_1': [0.12, 7, 45, 10], \n",
      "                        'col_2': [0.9, 9, 34, 11]},\n",
      "                  columns=['col_1', 'col_2', 'col_3'],\n",
      "                  index=['obs1', 'obs2', 'obs3', 'obs4'])\n",
      "df['col_1']"
     ],
     "language": "python",
     "metadata": {},
     "outputs": []
    },
    {
     "cell_type": "code",
     "collapsed": false,
     "input": [
      "df.col_1"
     ],
     "language": "python",
     "metadata": {},
     "outputs": []
    },
    {
     "cell_type": "markdown",
     "metadata": {},
     "source": [
      "You can also use multiple columns to select a subset of them:"
     ]
    },
    {
     "cell_type": "code",
     "collapsed": false,
     "input": [
      "df[['col_2', 'col_1']]"
     ],
     "language": "python",
     "metadata": {},
     "outputs": []
    },
    {
     "cell_type": "markdown",
     "metadata": {},
     "source": [
      "The .ix method gives you the most flexibility to index into certain rows, or\n",
      "even rows and columns:"
     ]
    },
    {
     "cell_type": "code",
     "collapsed": false,
     "input": [
      "df.ix['obs3']"
     ],
     "language": "python",
     "metadata": {},
     "outputs": []
    },
    {
     "cell_type": "code",
     "collapsed": false,
     "input": [
      "df.ix[0]"
     ],
     "language": "python",
     "metadata": {},
     "outputs": []
    },
    {
     "cell_type": "code",
     "collapsed": false,
     "input": [
      "df.ix[:2]"
     ],
     "language": "python",
     "metadata": {},
     "outputs": []
    },
    {
     "cell_type": "code",
     "collapsed": false,
     "input": [
      "df.ix[:2, 'col_2']"
     ],
     "language": "python",
     "metadata": {},
     "outputs": []
    },
    {
     "cell_type": "code",
     "collapsed": false,
     "input": [
      "df.ix[:2, ['col_1', 'col_2']]"
     ],
     "language": "python",
     "metadata": {},
     "outputs": []
    },
    {
     "cell_type": "markdown",
     "metadata": {},
     "source": [
      "## Loading Data from a file.\n",
      "\n",
      "This is an except of the MovieLens dataset based on the data from the intro chapter of \"Python\n",
      "for Data Analysis\".\n",
      "\n",
      "The MovieLens data is spread across three files. Using the `pd.read_table`\n",
      "method we load each file:"
     ]
    },
    {
     "cell_type": "code",
     "collapsed": false,
     "input": [
      "import pandas as pd\n",
      "\n",
      "unames = ['user_id', 'gender', 'age', 'occupation', 'zip']\n",
      "users = pd.read_table('../data/ml-data/users.dat',\n",
      "                      sep='|', header=None, names=unames)\n",
      "\n",
      "rnames = ['user_id', 'movie_id', 'rating', 'timestamp']\n",
      "ratings = pd.read_table('../data/ml-data/ratings.dat',\n",
      "                        sep='\\t', header=None, names=rnames)\n",
      "\n",
      "mnames = [\"movie id\",\"movie title\",\"release date\",\"video release date\",\n",
      "        \"IMDb URL\",\"unknown\",\"Action\",\"Adventure\",\"Animation\",\n",
      "        \"Children's\",\"Comedy\",\"Crime\",\"Documentary\",\"Drama\",\"Fantasy\",\n",
      "        \"Film-Noir\",\"Horror\",\"Musical\",\"Mystery\",\"Romance\",\"Sci-Fi\",\n",
      "        \"Thriller\",\"War\",\"Western\"]\n",
      "\n",
      "movies = pd.read_table('../data/ml-data/movies.dat',\n",
      "                       sep='|', header=None, names=mnames)\n",
      "\n",
      "# show how one of them looks\n",
      "users.head(5) \n"
     ],
     "language": "python",
     "metadata": {},
     "outputs": []
    },
    {
     "cell_type": "code",
     "collapsed": false,
     "input": [
      "ratings.head(5)"
     ],
     "language": "python",
     "metadata": {},
     "outputs": []
    },
    {
     "cell_type": "code",
     "collapsed": false,
     "input": [
      "movies[0:5].T"
     ],
     "language": "python",
     "metadata": {},
     "outputs": []
    },
    {
     "cell_type": "code",
     "collapsed": false,
     "input": [],
     "language": "python",
     "metadata": {},
     "outputs": []
    }
   ],
   "metadata": {}
  }
 ]
}