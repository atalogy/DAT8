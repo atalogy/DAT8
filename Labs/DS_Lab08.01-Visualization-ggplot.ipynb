{
 "metadata": {
  "name": "",
  "signature": "sha256:fc516b7e0a1b8e0a08df9819bd1869cd6b09c88149da2c59291bd99c408e6025"
 },
 "nbformat": 3,
 "nbformat_minor": 0,
 "worksheets": [
  {
   "cells": [
    {
     "cell_type": "raw",
     "metadata": {},
     "source": [
      "First, do this to get the ipython notebook\n",
      "\n",
      "git checkout student\n",
      "git commit -am ...\n",
      "git checkout master\n",
      "git pull\n",
      "git checkout student\n",
      "git merge master"
     ]
    },
    {
     "cell_type": "markdown",
     "metadata": {},
     "source": [
      "### To Install yhat's ggplot (for python): \n",
      "\n",
      "in a command window:<br/>\n",
      " pip install ggplot\n"
     ]
    },
    {
     "cell_type": "markdown",
     "metadata": {},
     "source": [
      "### Some documentation:\n",
      "* https://github.com/yhat/ggplot\n",
      "* http://ggplot.yhathq.com/"
     ]
    },
    {
     "cell_type": "code",
     "collapsed": false,
     "input": [
      "%matplotlib inline\n",
      "import ggplot as ggp\n",
      "import pandas as pd"
     ],
     "language": "python",
     "metadata": {},
     "outputs": []
    },
    {
     "cell_type": "code",
     "collapsed": false,
     "input": [
      "print ggp.geom_point?"
     ],
     "language": "python",
     "metadata": {},
     "outputs": []
    },
    {
     "cell_type": "code",
     "collapsed": false,
     "input": [
      "print ggp.geom_point"
     ],
     "language": "python",
     "metadata": {},
     "outputs": []
    },
    {
     "cell_type": "markdown",
     "metadata": {},
     "source": [
      "#### ggp.geom_point\n",
      "##### to create a scatter plot\n",
      "\n",
      "##### options :\n",
      "* 'alpha': 1\n",
      "* 'color': 'black'\n",
      "* 'fill': None\n",
      "* 'shape': 'o'\n",
      "* 'size': 20"
     ]
    },
    {
     "cell_type": "code",
     "collapsed": false,
     "input": [
      "print ggp.ggplot(ggp.mtcars, ggp.aes('mpg', 'qsec')) + \\\n",
      "      ggp.geom_point(colour='red',size=50,fill='yellow',shape='+') "
     ],
     "language": "python",
     "metadata": {},
     "outputs": []
    },
    {
     "cell_type": "markdown",
     "metadata": {},
     "source": [
      "#### Scales\n",
      "##### scale_x_continuous\n",
      "#####options :\n",
      "* breaks = list of locations for ticks (and grid lines)\n",
      "* labels = [optional] the respecitve labels for the tick\n"
     ]
    },
    {
     "cell_type": "code",
     "collapsed": false,
     "input": [
      "print ggp.scale_reverse?"
     ],
     "language": "python",
     "metadata": {},
     "outputs": []
    },
    {
     "cell_type": "code",
     "collapsed": false,
     "input": [
      "print ggp.scale_reverse"
     ],
     "language": "python",
     "metadata": {},
     "outputs": []
    },
    {
     "cell_type": "code",
     "collapsed": false,
     "input": [
      "print ggp.ggplot(ggp.mtcars, ggp.aes('mpg', 'qsec')) + \\\n",
      "      ggp.geom_point(colour='steelblue') + \\\n",
      "      ggp.scale_x_continuous(breaks=[10,20,25,30],  labels=[\"horrible\", \"ok\", \"good\", \"awesome\"])"
     ],
     "language": "python",
     "metadata": {},
     "outputs": []
    },
    {
     "cell_type": "code",
     "collapsed": false,
     "input": [
      "#### Other Scale options:\n",
      "* scale_axis\n",
      "* scale_colour_brewer\n",
      "* scale_colour_gradient\n",
      "* scale_colour_manual\n",
      "* scale_facet\n",
      "* scale_log --> scale_x_log & scale_y_log\n",
      "* scale_reverse --> scale_x_reverse & scale_y_reverse\n",
      "* scale_x_continuous\n",
      "* scale_x_date\n",
      "* scale_x_discrete\n",
      "* scale_y_continuous\n",
      "* scale_y_discrete"
     ],
     "language": "python",
     "metadata": {},
     "outputs": []
    },
    {
     "cell_type": "code",
     "collapsed": false,
     "input": [
      "print ggp.ggplot(ggp.mtcars, ggp.aes('mpg', 'qsec')) + \\\n",
      "      ggp.geom_point(colour='steelblue') + \\\n",
      "      ggp.scale_x_reverse()"
     ],
     "language": "python",
     "metadata": {},
     "outputs": []
    },
    {
     "cell_type": "markdown",
     "metadata": {},
     "source": [
      "### Adding Titles and Axis Labels\n",
      "#### Graph \"Atoms\": \n",
      "* ggtitle\n",
      "* xlab\n",
      "* ylab\n"
     ]
    },
    {
     "cell_type": "code",
     "collapsed": false,
     "input": [
      "print ggp.ggplot(ggp.mtcars, ggp.aes('mpg', 'qsec')) + \\\n",
      "      ggp.geom_point(color = \"red\") +  \\\n",
      "      ggp.geom_abline(intercept=18,slope=.1) +\\\n",
      "      ggp.ggtitle(\"Cars\") +  \\\n",
      "      ggp.xlab(\"Weight\") + \\\n",
      "      ggp.ylab(\"MPG\")\n",
      "#### What's going on here?"
     ],
     "language": "python",
     "metadata": {},
     "outputs": []
    },
    {
     "cell_type": "code",
     "collapsed": false,
     "input": [
      "ggp.mtcars.head()"
     ],
     "language": "python",
     "metadata": {},
     "outputs": []
    },
    {
     "cell_type": "code",
     "collapsed": false,
     "input": [
      "ggp.mtcars.describe()"
     ],
     "language": "python",
     "metadata": {},
     "outputs": []
    },
    {
     "cell_type": "code",
     "collapsed": false,
     "input": [
      "print ggp.ggplot(ggp.mtcars,g gp.aes('mpg')) + ggp.geom_histogram()\n",
      "# equivalent\n",
      "#print ggp.ggplot(ggp.mtcars,aes('mpg')) + ggp.geom_bar()"
     ],
     "language": "python",
     "metadata": {},
     "outputs": []
    },
    {
     "cell_type": "code",
     "collapsed": false,
     "input": [
      "mtcars_group=ggp.mtcars.groupby(['mpg','cyl'])['name'].count()"
     ],
     "language": "python",
     "metadata": {},
     "outputs": []
    },
    {
     "cell_type": "code",
     "collapsed": false,
     "input": [
      "mtcars_group.head()"
     ],
     "language": "python",
     "metadata": {},
     "outputs": []
    },
    {
     "cell_type": "code",
     "collapsed": false,
     "input": [
      "print ggp.ggplot(ggp.mtcars, ggp.aes('mpg', 'cyl')) + \\\n",
      "      ggp.geom_point(colour='steelblue',size=mtcars_group.values*100)"
     ],
     "language": "python",
     "metadata": {},
     "outputs": []
    },
    {
     "cell_type": "code",
     "collapsed": false,
     "input": [
      "pd.melt?"
     ],
     "language": "python",
     "metadata": {},
     "outputs": []
    },
    {
     "cell_type": "code",
     "collapsed": false,
     "input": [],
     "language": "python",
     "metadata": {},
     "outputs": []
    },
    {
     "cell_type": "code",
     "collapsed": false,
     "input": [
      "protein_trend=pd.melt(ggp.meat[['date', 'beef', 'broilers', 'pork']], \n",
      "                              id_vars=['date'], \n",
      "                              var_name ='protein_type')\n",
      "protein_trend.head()"
     ],
     "language": "python",
     "metadata": {},
     "outputs": []
    },
    {
     "cell_type": "code",
     "collapsed": false,
     "input": [
      "ggp.aes?"
     ],
     "language": "python",
     "metadata": {},
     "outputs": []
    },
    {
     "cell_type": "code",
     "collapsed": false,
     "input": [
      "plot = ggp.ggplot(ggp.aes(x='date', y='value', color='protein_type'), data=protein_trend) + \\\n",
      "    ggp.geom_point()\n",
      "print plot"
     ],
     "language": "python",
     "metadata": {},
     "outputs": []
    },
    {
     "cell_type": "code",
     "collapsed": false,
     "input": [
      "print plot + ggp.stat_smooth(color='red',size=3)"
     ],
     "language": "python",
     "metadata": {},
     "outputs": []
    },
    {
     "cell_type": "code",
     "collapsed": false,
     "input": [
      "print ggp.ggplot(ggp.aes(x='date', y='beef'), data=ggp.meat) + \\\n",
      "      ggp.geom_point(color='lightblue') + \\\n",
      "      ggp.stat_smooth(span=.15, color='black', se=True) + \\\n",
      "      ggp.ggtitle(\"Beef Consumption Tends\") + \\\n",
      "      ggp.xlab(\"Date\") + \\\n",
      "      ggp.ylab(\"Volume (Cattle)\")"
     ],
     "language": "python",
     "metadata": {},
     "outputs": []
    },
    {
     "cell_type": "code",
     "collapsed": false,
     "input": [
      "ggp.diamonds.head()\n",
      "#ggplot(diamonds, aes(x='price', color='cut',y='carat')) + \\\n",
      "#    geom_density()\n",
      " "
     ],
     "language": "python",
     "metadata": {},
     "outputs": []
    },
    {
     "cell_type": "code",
     "collapsed": false,
     "input": [
      "print ggp.ggplot(ggp.meat, ggp.aes('date','beef')) + \\\n",
      "      ggp.geom_line(color='black') + \\\n",
      "      ggp.scale_x_date(breaks=ggp.date_breaks('10 years'), labels='%b %Y') + \\\n",
      "      ggp.scale_y_continuous(labels='comma')"
     ],
     "language": "python",
     "metadata": {},
     "outputs": []
    },
    {
     "cell_type": "code",
     "collapsed": false,
     "input": [
      "print ggp.ggplot(ggp.meat, ggp.aes('date','beef * 2000')) + \\\n",
      "      ggp.geom_line(color='#F63271') + \\\n",
      "      ggp.scale_x_date(breaks=ggp.date_breaks('36 months'), labels='%Y') + \\\n",
      "      ggp.scale_y_continuous(labels='millions')"
     ],
     "language": "python",
     "metadata": {},
     "outputs": []
    },
    {
     "cell_type": "code",
     "collapsed": false,
     "input": [
      "#### \"faceting\" example "
     ],
     "language": "python",
     "metadata": {},
     "outputs": []
    },
    {
     "cell_type": "code",
     "collapsed": false,
     "input": [
      "p = ggp.ggplot(ggp.aes(x='date', y='value'), data=protein_trend)\n",
      "\n",
      "print p + ggp.geom_point() + \\\n",
      "      ggp.stat_smooth(colour=\"red\") + \\\n",
      "      ggp.facet_wrap(\"protein_type\")    \n"
     ],
     "language": "python",
     "metadata": {},
     "outputs": []
    },
    {
     "cell_type": "code",
     "collapsed": false,
     "input": [
      "print  ggp.ggplot(ggp.aes(x='value'), data=protein_trend) + \\\n",
      "       ggp.geom_histogram() + \\\n",
      "       ggp.facet_wrap(\"protein_type\")"
     ],
     "language": "python",
     "metadata": {},
     "outputs": []
    },
    {
     "cell_type": "code",
     "collapsed": false,
     "input": [
      "p = ggp.ggplot(ggp.diamonds, ggp.aes(x='price'))\n",
      "print p + ggp.geom_density() + \\\n",
      "      ggp.facet_grid(\"cut\", \"clarity\")\n"
     ],
     "language": "python",
     "metadata": {},
     "outputs": []
    },
    {
     "cell_type": "code",
     "collapsed": false,
     "input": [
      "p = ggp.ggplot(ggp.diamonds, ggp.aes(x='carat', y='price'))\n",
      "print p + ggp.geom_point(alpha=0.25) + \\\n",
      "      ggp.facet_grid(\"cut\", \"clarity\")  "
     ],
     "language": "python",
     "metadata": {},
     "outputs": []
    }
   ],
   "metadata": {}
  }
 ]
}