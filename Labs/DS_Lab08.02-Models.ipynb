{
 "metadata": {
  "name": "",
  "signature": "sha256:23cc5fcf256dbf54d580374a0a09db1e6f5c7ed8660f4d5cb46f41a49459884c"
 },
 "nbformat": 3,
 "nbformat_minor": 0,
 "worksheets": [
  {
   "cells": [
    {
     "cell_type": "code",
     "collapsed": false,
     "input": [
      "First, do this to get the ipython notebook\n",
      "\n",
      "git checkout student\n",
      "git commit -am ...\n",
      "git checkout master\n",
      "git pull\n",
      "git checkout student\n",
      "git merge master"
     ],
     "language": "python",
     "metadata": {},
     "outputs": []
    },
    {
     "cell_type": "code",
     "collapsed": false,
     "input": [
      "import pandas as pd\n",
      "import numpy as np\n",
      "import statsmodels as stats\n",
      "import statsmodels.formula.api as sm\n",
      "import matplotlib.pyplot as plt\n",
      "from statsmodels.sandbox.regression.predstd import wls_prediction_std"
     ],
     "language": "python",
     "metadata": {},
     "outputs": [],
     "prompt_number": 1
    },
    {
     "cell_type": "code",
     "collapsed": false,
     "input": [
      "unames = ['user id',  'age','gender', 'occupation', 'zip']\n",
      "users = pd.read_table('../data/ml-data/users.dat',\n",
      "                      sep='|', header=None, names=unames)\n",
      "\n",
      "rnames = ['user id', 'movie id', 'rating', 'timestamp']\n",
      "ratings = pd.read_table('../data/ml-data/ratings.dat',\n",
      "                        sep='\\t', header=None, names=rnames)\n",
      "\n",
      "mnames = [\"movie id\",\"movie title\",\"release date\",\"video release date\",\n",
      "        \"IMDb URL\",\"unknown\",\"Action\",\"Adventure\",\"Animation\",\n",
      "        \"Childrens\",\"Comedy\",\"Crime\",\"Documentary\",\"Drama\",\"Fantasy\",\n",
      "        \"FilmNoir\",\"Horror\",\"Musical\",\"Mystery\",\"Romance\",\"SciFi\",\n",
      "        \"Thriller\",\"War\",\"Western\"]\n",
      "\n",
      "movies = pd.read_table('../data/ml-data/movies.dat',\n",
      "                       sep='|', header=None, names=mnames)"
     ],
     "language": "python",
     "metadata": {},
     "outputs": [],
     "prompt_number": 2
    },
    {
     "cell_type": "code",
     "collapsed": false,
     "input": [
      "users.head(5) "
     ],
     "language": "python",
     "metadata": {},
     "outputs": []
    },
    {
     "cell_type": "code",
     "collapsed": false,
     "input": [
      "ratings.head(5)"
     ],
     "language": "python",
     "metadata": {},
     "outputs": []
    },
    {
     "cell_type": "code",
     "collapsed": false,
     "input": [
      "movies.head(5)"
     ],
     "language": "python",
     "metadata": {},
     "outputs": []
    },
    {
     "cell_type": "code",
     "collapsed": false,
     "input": [
      "users_ratings=ratings.merge(users,how='left',on='user id')"
     ],
     "language": "python",
     "metadata": {},
     "outputs": []
    },
    {
     "cell_type": "code",
     "collapsed": false,
     "input": [
      "users_ratings.head()"
     ],
     "language": "python",
     "metadata": {},
     "outputs": []
    },
    {
     "cell_type": "code",
     "collapsed": false,
     "input": [
      "dataset=movies.merge(users_ratings,how='left',on='movie id')"
     ],
     "language": "python",
     "metadata": {},
     "outputs": []
    },
    {
     "cell_type": "code",
     "collapsed": false,
     "input": [
      "dataset.head()"
     ],
     "language": "python",
     "metadata": {},
     "outputs": []
    },
    {
     "cell_type": "code",
     "collapsed": false,
     "input": [
      "dataset.head().T"
     ],
     "language": "python",
     "metadata": {},
     "outputs": []
    },
    {
     "cell_type": "code",
     "collapsed": false,
     "input": [
      "dataset.describe().T"
     ],
     "language": "python",
     "metadata": {},
     "outputs": []
    },
    {
     "cell_type": "heading",
     "level": 2,
     "metadata": {},
     "source": [
      "Explaining Rating - OLS"
     ]
    },
    {
     "cell_type": "code",
     "collapsed": false,
     "input": [
      "OLS_model = sm.ols(\"rating ~ age + Action + Adventure + Animation + Childrens + Comedy + Crime + Documentary + Drama  + Fantasy + FilmNoir + Horror  + Musical  + Mystery + Romance + SciFi+ Thriller + War + Western + gender \", data=dataset).fit()"
     ],
     "language": "python",
     "metadata": {},
     "outputs": []
    },
    {
     "cell_type": "code",
     "collapsed": false,
     "input": [
      "print(OLS_model.summary())"
     ],
     "language": "python",
     "metadata": {},
     "outputs": []
    },
    {
     "cell_type": "heading",
     "level": 3,
     "metadata": {},
     "source": [
      "plot age distribution "
     ]
    },
    {
     "cell_type": "code",
     "collapsed": false,
     "input": [
      "%matplotlib inline\n",
      "dataset[\"age\"].hist()"
     ],
     "language": "python",
     "metadata": {},
     "outputs": []
    },
    {
     "cell_type": "code",
     "collapsed": false,
     "input": [
      "import ggplot as ggp\n",
      "print ggp.ggplot(dataset,ggp.aes('rating', 'age')) + \\\n",
      "      ggp.geom_point(color='red',size=50)"
     ],
     "language": "python",
     "metadata": {},
     "outputs": []
    },
    {
     "cell_type": "heading",
     "level": 3,
     "metadata": {},
     "source": [
      "Non Linear Relationship?"
     ]
    },
    {
     "cell_type": "code",
     "collapsed": false,
     "input": [
      "dataset['age_sqr'] = dataset[\"age\"]**2"
     ],
     "language": "python",
     "metadata": {},
     "outputs": []
    },
    {
     "cell_type": "code",
     "collapsed": false,
     "input": [
      "OLS_model = sm.ols(\"rating ~ age + age_sqr + Action + Adventure + Animation + Childrens + Comedy + Crime + Documentary + Drama  + Fantasy + FilmNoir + Horror  + Musical  + Mystery + Romance + SciFi+ Thriller + War + Western\", data=dataset).fit()\n",
      "print(OLS_model.summary())"
     ],
     "language": "python",
     "metadata": {},
     "outputs": []
    },
    {
     "cell_type": "heading",
     "level": 3,
     "metadata": {},
     "source": [
      "Going back to the start..."
     ]
    },
    {
     "cell_type": "code",
     "collapsed": false,
     "input": [
      "OLS_model = sm.ols(\"rating ~ age + Action + Adventure + Animation + Childrens + Comedy + Crime + Documentary + Drama  + Fantasy + FilmNoir + Horror  + Musical  + Mystery + Romance + SciFi+ Thriller + War + Western\", data=dataset).fit()\n",
      "print(OLS_model.summary())"
     ],
     "language": "python",
     "metadata": {},
     "outputs": []
    },
    {
     "cell_type": "heading",
     "level": 3,
     "metadata": {},
     "source": [
      "Preducting y_hat"
     ]
    },
    {
     "cell_type": "code",
     "collapsed": false,
     "input": [
      "y_hat_ols = OLS_model.predict()"
     ],
     "language": "python",
     "metadata": {},
     "outputs": []
    },
    {
     "cell_type": "code",
     "collapsed": false,
     "input": [
      "len(y_hat_ols)"
     ],
     "language": "python",
     "metadata": {},
     "outputs": []
    },
    {
     "cell_type": "code",
     "collapsed": false,
     "input": [
      "y_hat_ols[0:5]"
     ],
     "language": "python",
     "metadata": {},
     "outputs": []
    },
    {
     "cell_type": "code",
     "collapsed": false,
     "input": [
      "y_hat=pd.Series(y_hat_ols)\n",
      "y_hat.plot()"
     ],
     "language": "python",
     "metadata": {},
     "outputs": []
    },
    {
     "cell_type": "code",
     "collapsed": false,
     "input": [
      "error=(y_hat-dataset[\"rating\"])**2\n",
      "error.head()"
     ],
     "language": "python",
     "metadata": {},
     "outputs": []
    },
    {
     "cell_type": "code",
     "collapsed": false,
     "input": [
      "error.hist()"
     ],
     "language": "python",
     "metadata": {},
     "outputs": []
    },
    {
     "cell_type": "heading",
     "level": 2,
     "metadata": {},
     "source": [
      "Discrete Choice Models"
     ]
    },
    {
     "cell_type": "heading",
     "level": 3,
     "metadata": {},
     "source": [
      "Lets explain why people choosing to see Comedy "
     ]
    },
    {
     "cell_type": "code",
     "collapsed": false,
     "input": [
      "dataset['Comedy'].hist()"
     ],
     "language": "python",
     "metadata": {},
     "outputs": []
    },
    {
     "cell_type": "heading",
     "level": 3,
     "metadata": {},
     "source": [
      "LPM Model - "
     ]
    },
    {
     "cell_type": "code",
     "collapsed": false,
     "input": [
      "LPM_model = sm.ols(\"Comedy ~ age + age_sqr + Action + Adventure + Animation + Childrens + Crime + Documentary + Drama  + Fantasy + FilmNoir + Horror  + Musical  + Mystery + Romance + SciFi+ Thriller + War + Western + gender + occupation \", data=dataset).fit()\n",
      "print(LPM_model.summary())"
     ],
     "language": "python",
     "metadata": {},
     "outputs": []
    },
    {
     "cell_type": "code",
     "collapsed": false,
     "input": [
      "y_hat_LPM_model = LPM_model.predict()\n",
      "\n",
      "\n"
     ],
     "language": "python",
     "metadata": {},
     "outputs": []
    },
    {
     "cell_type": "code",
     "collapsed": false,
     "input": [
      "LPM_hat=pd.Series(y_hat_LPM_model).hist()"
     ],
     "language": "python",
     "metadata": {},
     "outputs": []
    },
    {
     "cell_type": "heading",
     "level": 4,
     "metadata": {},
     "source": [
      "We need to solve it..."
     ]
    },
    {
     "cell_type": "heading",
     "level": 4,
     "metadata": {},
     "source": [
      "Normal Or Log-Normal?"
     ]
    },
    {
     "cell_type": "code",
     "collapsed": false,
     "input": [
      "Logit_model = sm.logit(\"Comedy ~ age + age_sqr + Action + Adventure + Animation + Childrens + Crime + Documentary + Drama  + Fantasy + FilmNoir + Horror  + Musical  + Mystery + Romance + SciFi+ Thriller + War + Western + gender + occupation \", data=dataset).fit()\n",
      "print(Logit_model.summary())"
     ],
     "language": "python",
     "metadata": {},
     "outputs": []
    },
    {
     "cell_type": "code",
     "collapsed": false,
     "input": [
      "y_hat_logit_predict=Logit_model.predict()\n",
      "y_hat_logit_predict"
     ],
     "language": "python",
     "metadata": {},
     "outputs": []
    },
    {
     "cell_type": "code",
     "collapsed": false,
     "input": [
      "error_hat_logit = (y_hat_logit_predict - dataset[\"Comedy\"])**2\n",
      "error_hat_logit[0:5]"
     ],
     "language": "python",
     "metadata": {},
     "outputs": []
    },
    {
     "cell_type": "code",
     "collapsed": false,
     "input": [
      "Probit_model = sm.probit(\"Comedy ~ age + age_sqr + Action + Adventure + Animation + Childrens + Crime + Documentary + Drama  + Fantasy + FilmNoir + Horror  + Musical  + Mystery + Romance + SciFi+ Thriller + War + Western + gender + occupation \", data=dataset).fit()\n",
      "print(Probit_model.summary())"
     ],
     "language": "python",
     "metadata": {},
     "outputs": []
    },
    {
     "cell_type": "code",
     "collapsed": false,
     "input": [
      "y_hat_probit_predict=Probit_model.predict()\n",
      "y_hat_probit_predict"
     ],
     "language": "python",
     "metadata": {},
     "outputs": []
    },
    {
     "cell_type": "code",
     "collapsed": false,
     "input": [
      "error_hat_probit = (y_hat_probit_predict - dataset[\"Comedy\"])**2\n",
      "error_hat_probit[0:5]"
     ],
     "language": "python",
     "metadata": {},
     "outputs": []
    },
    {
     "cell_type": "code",
     "collapsed": false,
     "input": [
      "error_hat_probit.describe()"
     ],
     "language": "python",
     "metadata": {},
     "outputs": []
    },
    {
     "cell_type": "code",
     "collapsed": false,
     "input": [
      "error_hat_logit.describe()"
     ],
     "language": "python",
     "metadata": {},
     "outputs": []
    },
    {
     "cell_type": "code",
     "collapsed": false,
     "input": [
      "error_hat_logit.hist()"
     ],
     "language": "python",
     "metadata": {},
     "outputs": []
    },
    {
     "cell_type": "code",
     "collapsed": false,
     "input": [
      "error_hat_probit.hist()"
     ],
     "language": "python",
     "metadata": {},
     "outputs": []
    },
    {
     "cell_type": "code",
     "collapsed": false,
     "input": [],
     "language": "python",
     "metadata": {},
     "outputs": []
    }
   ],
   "metadata": {}
  }
 ]
}